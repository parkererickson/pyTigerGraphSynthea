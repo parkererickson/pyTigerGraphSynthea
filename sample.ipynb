{
 "cells": [
  {
   "cell_type": "code",
   "execution_count": 1,
   "metadata": {},
   "outputs": [],
   "source": [
    "import pandas as pd"
   ]
  },
  {
   "cell_type": "code",
   "execution_count": 2,
   "metadata": {},
   "outputs": [],
   "source": [
    "procedures = pd.read_csv(\"data/procedures.csv\", names=[\"date\", \"patient\", \"encounter\", \"code\", \"description\", \"cost\", \"reasonCode\", \"reasonDescription\"])\n",
    "encounters = pd.read_csv(\"data/encounters.csv\", names=[\"id\",\"dateStart\",\"dateStop\",\"patient\",\"provider\",\"encounterClass\",\"code\",\"description\",\"cost\",\"reasonCode\",\"reasonDescription\"]).sample(frac=.2)"
   ]
  },
  {
   "cell_type": "code",
   "execution_count": 3,
   "metadata": {},
   "outputs": [
    {
     "output_type": "execute_result",
     "data": {
      "text/plain": "          date  ...                     reasonDescription\n0   2011-02-22  ...                                   NaN\n3   2012-04-23  ...            Rupture of patellar tendon\n10  2009-08-20  ...                                   NaN\n15  2011-11-12  ...  Streptococcal sore throat (disorder)\n32  2010-06-27  ...                                   NaN\n\n[5 rows x 8 columns]",
      "text/html": "<div>\n<style scoped>\n    .dataframe tbody tr th:only-of-type {\n        vertical-align: middle;\n    }\n\n    .dataframe tbody tr th {\n        vertical-align: top;\n    }\n\n    .dataframe thead th {\n        text-align: right;\n    }\n</style>\n<table border=\"1\" class=\"dataframe\">\n  <thead>\n    <tr style=\"text-align: right;\">\n      <th></th>\n      <th>date</th>\n      <th>patient</th>\n      <th>encounter</th>\n      <th>code</th>\n      <th>description</th>\n      <th>cost</th>\n      <th>reasonCode</th>\n      <th>reasonDescription</th>\n    </tr>\n  </thead>\n  <tbody>\n    <tr>\n      <th>0</th>\n      <td>2011-02-22</td>\n      <td>35e0c202-7d79-40cb-84f1-1b69e6f6be3c</td>\n      <td>77ae55cb-3044-4c11-ade8-1e3ed42206c9</td>\n      <td>428191000124101</td>\n      <td>Documentation of current medications</td>\n      <td>689.83</td>\n      <td>NaN</td>\n      <td>NaN</td>\n    </tr>\n    <tr>\n      <th>3</th>\n      <td>2012-04-23</td>\n      <td>ffd2b713-518b-4660-b112-e1ee298ac8d1</td>\n      <td>8690afa4-4942-45b4-8a7e-2865cde65dd2</td>\n      <td>699253003</td>\n      <td>Surgical manipulation of joint of knee</td>\n      <td>11591.67</td>\n      <td>30832001.0</td>\n      <td>Rupture of patellar tendon</td>\n    </tr>\n    <tr>\n      <th>10</th>\n      <td>2009-08-20</td>\n      <td>81b0149c-1b72-4e63-9ee4-62e4856fdd5c</td>\n      <td>09a28878-7978-4989-ac3d-4928e442e089</td>\n      <td>428191000124101</td>\n      <td>Documentation of current medications</td>\n      <td>492.65</td>\n      <td>NaN</td>\n      <td>NaN</td>\n    </tr>\n    <tr>\n      <th>15</th>\n      <td>2011-11-12</td>\n      <td>d1f14152-8766-40cc-a53b-9e78aba41bc0</td>\n      <td>e6f00c20-12dc-4865-94a9-78a537f6ec0b</td>\n      <td>117015009</td>\n      <td>Throat culture (procedure)</td>\n      <td>2282.58</td>\n      <td>43878008.0</td>\n      <td>Streptococcal sore throat (disorder)</td>\n    </tr>\n    <tr>\n      <th>32</th>\n      <td>2010-06-27</td>\n      <td>429bcf5e-ec41-4fda-a827-fb3816af2aab</td>\n      <td>6014f8b8-7da7-4c71-8303-f88b29b65bff</td>\n      <td>428191000124101</td>\n      <td>Documentation of current medications</td>\n      <td>812.14</td>\n      <td>NaN</td>\n      <td>NaN</td>\n    </tr>\n  </tbody>\n</table>\n</div>"
     },
     "metadata": {},
     "execution_count": 3
    }
   ],
   "source": [
    "procedures.head()"
   ]
  },
  {
   "cell_type": "code",
   "execution_count": 4,
   "metadata": {},
   "outputs": [
    {
     "output_type": "execute_result",
     "data": {
      "text/plain": "                                         id  ...           reasonDescription\n37319  530fd72c-d063-4263-add9-833fe9497299  ...  Viral sinusitis (disorder)\n9735   41e4b13a-a5f6-4dfb-8164-2d244423e049  ...                         NaN\n26799  dea845bc-46ff-4a7e-bdcd-4596dae925c6  ...                         NaN\n2829   ee70d6f8-5c5d-4c5d-99ad-ef20ddc06c19  ...                         NaN\n1878   e1cfdaaf-da77-4004-abf8-ffe8e439f434  ...        Neoplasm of prostate\n\n[5 rows x 11 columns]",
      "text/html": "<div>\n<style scoped>\n    .dataframe tbody tr th:only-of-type {\n        vertical-align: middle;\n    }\n\n    .dataframe tbody tr th {\n        vertical-align: top;\n    }\n\n    .dataframe thead th {\n        text-align: right;\n    }\n</style>\n<table border=\"1\" class=\"dataframe\">\n  <thead>\n    <tr style=\"text-align: right;\">\n      <th></th>\n      <th>id</th>\n      <th>dateStart</th>\n      <th>dateStop</th>\n      <th>patient</th>\n      <th>provider</th>\n      <th>encounterClass</th>\n      <th>code</th>\n      <th>description</th>\n      <th>cost</th>\n      <th>reasonCode</th>\n      <th>reasonDescription</th>\n    </tr>\n  </thead>\n  <tbody>\n    <tr>\n      <th>37319</th>\n      <td>530fd72c-d063-4263-add9-833fe9497299</td>\n      <td>2011-07-10T09:54:17Z</td>\n      <td>2011-07-10T10:09:17Z</td>\n      <td>1f6c814e-40d5-4d09-b96d-a32e61e8cc90</td>\n      <td>ef58ea08-d883-3957-8300-150554edc8fb</td>\n      <td>ambulatory</td>\n      <td>185345009</td>\n      <td>Encounter for symptom</td>\n      <td>129.16</td>\n      <td>444814009.0</td>\n      <td>Viral sinusitis (disorder)</td>\n    </tr>\n    <tr>\n      <th>9735</th>\n      <td>41e4b13a-a5f6-4dfb-8164-2d244423e049</td>\n      <td>2011-01-09T21:59:40Z</td>\n      <td>2011-01-09T22:14:40Z</td>\n      <td>0c9435eb-d5a7-4ee3-9769-baadca06765b</td>\n      <td>d78e84ec-30aa-3bba-a33a-f29a3a454662</td>\n      <td>outpatient</td>\n      <td>185347001</td>\n      <td>Encounter for problem (procedure)</td>\n      <td>129.16</td>\n      <td>NaN</td>\n      <td>NaN</td>\n    </tr>\n    <tr>\n      <th>26799</th>\n      <td>dea845bc-46ff-4a7e-bdcd-4596dae925c6</td>\n      <td>2014-06-23T05:13:44Z</td>\n      <td>2014-06-23T05:43:44Z</td>\n      <td>2f9b2362-b5c9-49d2-960c-efae3710e900</td>\n      <td>d692e283-0833-3201-8e55-4f868a9c0736</td>\n      <td>wellness</td>\n      <td>185349003</td>\n      <td>Encounter for check up (procedure)</td>\n      <td>129.16</td>\n      <td>NaN</td>\n      <td>NaN</td>\n    </tr>\n    <tr>\n      <th>2829</th>\n      <td>ee70d6f8-5c5d-4c5d-99ad-ef20ddc06c19</td>\n      <td>2011-04-19T04:32:00Z</td>\n      <td>2011-04-19T05:02:00Z</td>\n      <td>7d275ce4-032c-4af0-8998-4f79fa12d274</td>\n      <td>4bdaa4c2-c664-3089-aee2-7137abbad27f</td>\n      <td>wellness</td>\n      <td>185349003</td>\n      <td>Encounter for check up (procedure)</td>\n      <td>129.16</td>\n      <td>NaN</td>\n      <td>NaN</td>\n    </tr>\n    <tr>\n      <th>1878</th>\n      <td>e1cfdaaf-da77-4004-abf8-ffe8e439f434</td>\n      <td>2004-08-27T06:45:35Z</td>\n      <td>2004-08-27T07:00:35Z</td>\n      <td>a5e81695-0475-48e1-ae41-6f04d89a6ca7</td>\n      <td>23834663-ed53-3da9-b330-d6e1ecb8428e</td>\n      <td>ambulatory</td>\n      <td>185347001</td>\n      <td>Encounter for problem</td>\n      <td>129.16</td>\n      <td>126906006.0</td>\n      <td>Neoplasm of prostate</td>\n    </tr>\n  </tbody>\n</table>\n</div>"
     },
     "metadata": {},
     "execution_count": 4
    }
   ],
   "source": [
    "encounters.head()"
   ]
  },
  {
   "cell_type": "code",
   "execution_count": 5,
   "metadata": {},
   "outputs": [],
   "source": [
    "visitIds = list(encounters[\"id\"])"
   ]
  },
  {
   "cell_type": "code",
   "execution_count": 6,
   "metadata": {},
   "outputs": [],
   "source": [
    "procedures = procedures[procedures.encounter.isin(visitIds)]"
   ]
  },
  {
   "cell_type": "code",
   "execution_count": 7,
   "metadata": {},
   "outputs": [],
   "source": [
    "procedures.to_csv(\"data/procedures.csv\", header=False)"
   ]
  },
  {
   "cell_type": "code",
   "execution_count": 8,
   "metadata": {},
   "outputs": [],
   "source": [
    "encounters.to_csv(\"data/encounters.csv\", header=False)"
   ]
  },
  {
   "cell_type": "code",
   "execution_count": null,
   "metadata": {},
   "outputs": [],
   "source": []
  }
 ],
 "metadata": {
  "language_info": {
   "codemirror_mode": {
    "name": "ipython",
    "version": 3
   },
   "file_extension": ".py",
   "mimetype": "text/x-python",
   "name": "python",
   "nbconvert_exporter": "python",
   "pygments_lexer": "ipython3",
   "version": "3.7.7-final"
  },
  "orig_nbformat": 2,
  "kernelspec": {
   "name": "python37764bitaf3ccae12e254608b05c8f3548e9d817",
   "display_name": "Python 3.7.7 64-bit"
  }
 },
 "nbformat": 4,
 "nbformat_minor": 2
}