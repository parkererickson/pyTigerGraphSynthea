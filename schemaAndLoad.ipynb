{
 "cells": [
  {
   "cell_type": "markdown",
   "metadata": {},
   "source": [
    "# Connecting to and starting TigerGraph service\n",
    "Make sure to increase RAM available first\n",
    "\n",
    "```ssh -p 14022 tigergraph@localhost```\n",
    "\n",
    "Password: tigergraph\n",
    "\n",
    "Once sshed into the container, run\n",
    "\n",
    "```gadmin start all```"
   ]
  },
  {
   "cell_type": "code",
   "execution_count": null,
   "metadata": {},
   "outputs": [],
   "source": [
    "import pandas as pd\n",
    "import pyTigerGraph as tg"
   ]
  },
  {
   "cell_type": "code",
   "execution_count": null,
   "metadata": {
    "tags": []
   },
   "outputs": [],
   "source": [
    "conn = tg.TigerGraphConnection(host=\"http://localhost\")"
   ]
  },
  {
   "cell_type": "code",
   "execution_count": null,
   "metadata": {
    "tags": []
   },
   "outputs": [],
   "source": [
    "print(conn.gsql(\"DROP ALL\", options=[]))"
   ]
  },
  {
   "cell_type": "code",
   "execution_count": null,
   "metadata": {},
   "outputs": [],
   "source": [
    "conditions = pd.read_csv(\"data/conditions.csv\", names=[\"dateStart\", \"dateEnd\", \"patient\", \"condition\", \"code\", \"description\"])\n",
    "medications = pd.read_csv(\"data/medications.csv\", names=[\"dateStart\", \"dateEnd\", \"patient\", \"medication\", \"code\" , \"description\", \"cost\", \"dispenses\", \"totalCost\", \"reasonCode\", \"reasonDesc\"])\n",
    "patients = pd.read_csv(\"data/patients.csv\", names=[\"id\",\"birthDate\",\"deathDate\",\"ssn\",\"drivers\",\"passport\",\"prefix\",\"first\",\"last\",\"suffix\",\"maiden\",\"marital\",\"race\",\"ethnicity\",\"gender\",\"birthPlace\",\"address\",\"city\",\"state\",\"zip\"])\n",
    "procedures = pd.read_csv(\"data/procedures.csv\", names=[\"date\", \"patient\", \"encounter\", \"code\", \"description\", \"cost\", \"reasonCode\", \"reasonDescription\"])\n",
    "providers = pd.read_csv(\"data/providers.csv\", names=[\"id\",\"organization\",\"name\",\"gender\",\"specialty\",\"address\",\"city\",\"state\",\"zip\",\"utilization\"])\n",
    "encounters = pd.read_csv(\"data/encounters.csv\", names=[\"id\",\"dateStart\",\"dateStop\",\"patient\",\"provider\",\"encounterClass\",\"code\",\"description\",\"cost\",\"reasonCode\",\"reasonDescription\"])"
   ]
  },
  {
   "cell_type": "code",
   "execution_count": null,
   "metadata": {},
   "outputs": [],
   "source": [
    "patients.head()"
   ]
  },
  {
   "cell_type": "code",
   "execution_count": null,
   "metadata": {},
   "outputs": [],
   "source": [
    "providers.head()"
   ]
  },
  {
   "cell_type": "code",
   "execution_count": null,
   "metadata": {},
   "outputs": [],
   "source": [
    "conditions.head()"
   ]
  },
  {
   "cell_type": "code",
   "execution_count": null,
   "metadata": {},
   "outputs": [],
   "source": [
    "medications.head()"
   ]
  },
  {
   "cell_type": "code",
   "execution_count": null,
   "metadata": {},
   "outputs": [],
   "source": [
    "procedures.head()"
   ]
  },
  {
   "cell_type": "code",
   "execution_count": null,
   "metadata": {},
   "outputs": [],
   "source": [
    "encounters.head()"
   ]
  },
  {
   "cell_type": "markdown",
   "metadata": {},
   "source": [
    "Figure out how you would go about finding what patients have seen a given provider. Look in the encounters table, obviously. But what about if you wanted to know the patient's birthdate and medications, along with what provider they are seeing? Thats like 2 joins between 3 tables. On an enterprise scale of patients, this is *really* slow. Lets model these tables into a graph database."
   ]
  },
  {
   "cell_type": "markdown",
   "metadata": {},
   "source": [
    "# Creating Vertices\n",
    "We are going to create vertices for our data to reside on. We will then join these vertices together with edges."
   ]
  },
  {
   "cell_type": "code",
   "execution_count": null,
   "metadata": {
    "tags": []
   },
   "outputs": [],
   "source": [
    "print(conn.gsql('''\n",
    "    CREATE VERTEX Patient (PRIMARY_ID Id STRING, FirstName STRING, LastName STRING, Prefix STRING, Suffix STRING, MaidenName STRING, MaritalStatus STRING, Gender STRING, Race STRING, Ethnicity STRING, DateOfBirth DATETIME, DateOfDeath DATETIME DEFAULT \"2999-12-31 00:00:00\", SSN STRING, DL STRING, Passport STRING )\n",
    "''', options=[]))"
   ]
  },
  {
   "cell_type": "code",
   "execution_count": null,
   "metadata": {
    "tags": []
   },
   "outputs": [],
   "source": [
    "print(conn.gsql('''\n",
    "    CREATE VERTEX Provider (PRIMARY_ID Id STRING, Name STRING, Gender STRING, Speciality STRING, Utilization INT)\n",
    "''', options=[]))"
   ]
  },
  {
   "cell_type": "code",
   "execution_count": null,
   "metadata": {
    "tags": []
   },
   "outputs": [],
   "source": [
    "print(conn.gsql('''\n",
    "    CREATE VERTEX Condition (PRIMARY_ID Id STRING, Code STRING, Description STRING)\n",
    "''', options=[]))"
   ]
  },
  {
   "cell_type": "code",
   "execution_count": null,
   "metadata": {
    "tags": []
   },
   "outputs": [],
   "source": [
    "print(conn.gsql('''\n",
    "    CREATE VERTEX Medication(PRIMARY_ID Id STRING, Code STRING, Description STRING, Cost DOUBLE, Dispense INT, TotalCost DOUBLE, ReasonCode STRING, ReasonDescription STRING)\n",
    "''', options=[]))"
   ]
  },
  {
   "cell_type": "code",
   "execution_count": null,
   "metadata": {
    "tags": []
   },
   "outputs": [],
   "source": [
    "print(conn.gsql('''\n",
    "    CREATE VERTEX PatientProcedure(PRIMARY_ID Id STRING, Code STRING, Description STRING, Cost DOUBLE, ReasonCode STRING, ReasonDescription STRING)\n",
    "''', options=[]))"
   ]
  },
  {
   "cell_type": "code",
   "execution_count": null,
   "metadata": {
    "tags": []
   },
   "outputs": [],
   "source": [
    "print(conn.gsql('''\n",
    "    CREATE VERTEX Visit (PRIMARY_ID Id STRING, Code STRING, Description STRING, Started DATETIME, Stopped DATETIME, Cost DOUBLE) \n",
    "''', options=[]))"
   ]
  },
  {
   "cell_type": "markdown",
   "metadata": {},
   "source": [
    "# Adding Edges\n",
    "Now here comes what makes a graph database special - predetermined relationships between different entities. We are going to add *edges* between are vertices, so that we don't have to perform joins when manipulating the data"
   ]
  },
  {
   "cell_type": "code",
   "execution_count": null,
   "metadata": {
    "tags": []
   },
   "outputs": [],
   "source": [
    "# Create Edge Between Patients and Visits, Providers and Visits, and Patients and Providers\n",
    "\n",
    "print(conn.gsql('''\n",
    "    CREATE DIRECTED EDGE patientVisit (FROM Patient, TO Visit) WITH REVERSE_EDGE = \"patientSeen\"\n",
    "''', options=[]))\n",
    "\n",
    "print(conn.gsql('''\n",
    "    CREATE DIRECTED EDGE providerVisit (FROM Provider, TO Visit) WITH REVERSE_EDGE = \"providerSeen\"\n",
    "''', options=[]))\n",
    "\n",
    "print(conn.gsql('''\n",
    "    CREATE DIRECTED EDGE patientSeesProvider (FROM Patient, TO Provider) WITH REVERSE_EDGE = \"providerSeesPatient\"\n",
    "''', options=[]))"
   ]
  },
  {
   "cell_type": "code",
   "execution_count": null,
   "metadata": {
    "tags": []
   },
   "outputs": [],
   "source": [
    "# Create edge between Patients and Medications\n",
    "\n",
    "print(conn.gsql('''\n",
    "    CREATE DIRECTED EDGE hasMedication (FROM Patient, TO Medication, Started DATETIME, Stopped DATETIME DEFAULT \"2999-12-31 00:00:00\") WITH REVERSE_EDGE = \"patientMedication\"\n",
    "''', options=[]))"
   ]
  },
  {
   "cell_type": "code",
   "execution_count": null,
   "metadata": {
    "tags": []
   },
   "outputs": [],
   "source": [
    "# Create edge between Patients and Conditions\n",
    "\n",
    "print(conn.gsql('''\n",
    "    CREATE DIRECTED EDGE hasCondition (FROM Patient, TO Condition, Started DATETIME, Stopped DATETIME DEFAULT \"2999-12-31 00:00:00\") WITH REVERSE_EDGE = \"patientCondition\"\n",
    "''', options=[]))"
   ]
  },
  {
   "cell_type": "code",
   "execution_count": null,
   "metadata": {
    "tags": []
   },
   "outputs": [],
   "source": [
    "# Create edge between Patients and Procedures as well as Visits and Procedure\n",
    "\n",
    "print(conn.gsql('''\n",
    "    CREATE DIRECTED EDGE hasProcedure (FROM Patient, TO PatientProcedure, Performed DATETIME) WITH REVERSE_EDGE = \"patientProcedure\"\n",
    "''', options=[]))\n",
    "\n",
    "print(conn.gsql('''\n",
    "    CREATE DIRECTED EDGE procedureDuringVisit (FROM PatientProcedure, TO Visit, Performed DATETIME) WITH REVERSE_EDGE = \"visitForProcedure\"\n",
    "''', options=[]))"
   ]
  },
  {
   "cell_type": "markdown",
   "metadata": {},
   "source": [
    "# Tying it all together\n",
    "After this, visit [here](http://localhost:14240/#/schema-designer) to see the completed schema"
   ]
  },
  {
   "cell_type": "code",
   "execution_count": null,
   "metadata": {
    "tags": []
   },
   "outputs": [],
   "source": [
    "print(conn.gsql(\"ls\", options=[]))"
   ]
  },
  {
   "cell_type": "code",
   "execution_count": null,
   "metadata": {
    "tags": []
   },
   "outputs": [],
   "source": [
    "print(conn.gsql('''\n",
    "    CREATE GRAPH Synthea(Patient, Provider, Condition, Medication, PatientProcedure, Visit, patientVisit, patientSeen, providerVisit, providerSeen, patientSeesProvider, providerSeesPatient, hasMedication, patientMedication, hasCondition, patientCondition, hasProcedure, patientProcedure, procedureDuringVisit, visitForProcedure)\n",
    "''', options=[]))"
   ]
  },
  {
   "cell_type": "markdown",
   "metadata": {},
   "source": [
    "# Loading Data\n",
    "We could define loading jobs, but the easiest way is to use pyTigerGraph's loading functions."
   ]
  },
  {
   "cell_type": "code",
   "execution_count": null,
   "metadata": {},
   "outputs": [],
   "source": [
    "# First, need to set graph name in connection\n",
    "\n",
    "conn.graphname = \"Synthea\""
   ]
  },
  {
   "cell_type": "code",
   "execution_count": null,
   "metadata": {},
   "outputs": [],
   "source": [
    "patients.head()"
   ]
  },
  {
   "cell_type": "code",
   "execution_count": null,
   "metadata": {},
   "outputs": [],
   "source": [
    "'''\n",
    "CREATE VERTEX Patient (PRIMARY_ID Id STRING, FirstName STRING, LastName STRING, Prefix STRING, Suffix STRING, MaidenName STRING, MaritalStatus STRING, Gender STRING, Race STRING, Ethnicity STRING, DateOfBirth DATETIME, DateOfDeath DATETIME DEFAULT \"2999-12-31 00:00:00\", SSN STRING, DL STRING, Passport STRING )\n",
    "'''\n",
    "\n",
    "def upsertPatients(row):\n",
    "    attributes = {\n",
    "        \"FirstName\": row[\"first\"],\n",
    "        \"LastName\": row[\"last\"], \n",
    "        \"Prefix\": row[\"prefix\"],\n",
    "        \"Suffix\": row[\"suffix\"], \n",
    "        \"MaidenName\": row[\"maiden\"],\n",
    "        \"MaritalStatus\": row[\"marital\"],\n",
    "        \"Gender\": row[\"gender\"],\n",
    "        \"Race\": row[\"race\"],\n",
    "        \"Ethnicity\": row[\"ethnicity\"],\n",
    "        \"DateOfBirth\": row[\"birthDate\"],\n",
    "        \"SSN\": row[\"ssn\"],\n",
    "        \"DL\": row[\"drivers\"],\n",
    "        \"Passport\": row[\"passport\"]\n",
    "    }\n",
    "    conn.upsertVertex(\"Patient\", row[\"id\"], attributes)"
   ]
  },
  {
   "cell_type": "code",
   "execution_count": null,
   "metadata": {},
   "outputs": [],
   "source": [
    "patients[\"deathDate\"].fillna(\"2999-12-31 00:00:00\", inplace=True)\n",
    "patients.fillna(\"\", inplace=True)"
   ]
  },
  {
   "cell_type": "code",
   "execution_count": null,
   "metadata": {},
   "outputs": [],
   "source": [
    "patients.apply(lambda row: upsertPatients(row), axis=1)"
   ]
  },
  {
   "cell_type": "code",
   "execution_count": null,
   "metadata": {},
   "outputs": [],
   "source": [
    "providers.head()"
   ]
  },
  {
   "cell_type": "code",
   "execution_count": null,
   "metadata": {},
   "outputs": [],
   "source": [
    "# CREATE VERTEX Provider (PRIMARY_ID Id STRING, Name STRING, Gender STRING, Speciality STRING, Utilization INT)\n",
    "def upsertProviders(row):\n",
    "    attributes = {\n",
    "        \"Name\": row[\"name\"], \n",
    "        \"Gender\": row[\"gender\"],\n",
    "        \"Speciality\": row[\"specialty\"],\n",
    "        \"Utilization\": row[\"utilization\"]\n",
    "    }\n",
    "    conn.upsertVertex(\"Provider\", row[\"id\"], attributes)"
   ]
  },
  {
   "cell_type": "code",
   "execution_count": null,
   "metadata": {},
   "outputs": [],
   "source": [
    "providers.apply(lambda row: upsertProviders(row), axis=1)"
   ]
  },
  {
   "cell_type": "code",
   "execution_count": null,
   "metadata": {},
   "outputs": [],
   "source": [
    "encounters.head()"
   ]
  },
  {
   "cell_type": "code",
   "execution_count": null,
   "metadata": {},
   "outputs": [],
   "source": [
    "# CREATE VERTEX Visit (PRIMARY_ID Id STRING, Code STRING, Description STRING, Started DATETIME, Stopped DATETIME, Cost DOUBLE) \n",
    "def upsertVisits(row):\n",
    "    attributes = {\n",
    "        \"Code\": str(row[\"code\"]),\n",
    "        \"Description\": row[\"description\"],\n",
    "        \"Started\": row[\"dateStart\"],\n",
    "        \"Stopped\": row[\"dateStop\"],\n",
    "        \"Cost\": row[\"cost\"]\n",
    "    }\n",
    "\n",
    "    conn.upsertVertex(\"Visit\", row[\"id\"], attributes)\n",
    "    conn.upsertEdge(\"Patient\", row[\"patient\"], \"patientVisit\", \"Visit\", row[\"id\"])\n",
    "    conn.upsertEdge(\"Provider\", row[\"provider\"], \"providerVisit\", \"Visit\", row[\"id\"])\n",
    "    conn.upsertEdge(\"Patient\", row[\"patient\"], \"patientSeesProvider\", \"Provider\", row[\"provider\"])"
   ]
  },
  {
   "cell_type": "code",
   "execution_count": null,
   "metadata": {},
   "outputs": [],
   "source": [
    "encounters.apply(lambda row: upsertVisits(row), axis=1)"
   ]
  },
  {
   "cell_type": "code",
   "execution_count": null,
   "metadata": {},
   "outputs": [],
   "source": [
    "medications.head()"
   ]
  },
  {
   "cell_type": "code",
   "execution_count": null,
   "metadata": {},
   "outputs": [],
   "source": [
    "medications[\"dateEnd\"].fillna(\"2999-12-31 00:00:00\", inplace=True)\n",
    "medications.fillna(\"\", inplace=True)"
   ]
  },
  {
   "cell_type": "code",
   "execution_count": null,
   "metadata": {},
   "outputs": [],
   "source": [
    "#CREATE VERTEX Medication(PRIMARY_ID Id STRING, Code STRING, Description STRING, Cost DOUBLE, Dispense INT, TotalCost DOUBLE, ReasonCode STRING, ReasonDescription STRING)\n",
    "#CREATE DIRECTED EDGE hasMedication (FROM Patient, TO Medication, Started DATETIME, Stopped DATETIME DEFAULT \"2999-12-31 00:00:00\") WITH REVERSE_EDGE = \"patientMedication\"\n",
    "def upsertMedications(row):\n",
    "    attributes = {\n",
    "        \"Code\": str(row[\"code\"]),\n",
    "        \"Description\": row[\"description\"],\n",
    "        \"Cost\": row[\"cost\"],\n",
    "        \"Dispense\": row[\"dispenses\"],\n",
    "        \"TotalCost\": row[\"totalCost\"],\n",
    "        \"ReasonCode\": str(row[\"reasonCode\"]),\n",
    "        \"ReasonDescription\": row[\"reasonDesc\"]\n",
    "    }\n",
    "\n",
    "    conn.upsertVertex(\"Medication\", row[\"code\"], attributes)\n",
    "\n",
    "    edgeAttributes = {\n",
    "        \"Started\": row[\"dateStart\"],\n",
    "        \"Stopped\": row[\"dateEnd\"]\n",
    "    }\n",
    "\n",
    "    conn.upsertEdge(\"Patient\", row[\"patient\"], \"hasMedication\", \"Medication\", row[\"code\"])"
   ]
  },
  {
   "cell_type": "code",
   "execution_count": null,
   "metadata": {},
   "outputs": [],
   "source": [
    "medications.apply(lambda row: upsertMedications(row), axis=1)"
   ]
  },
  {
   "cell_type": "code",
   "execution_count": null,
   "metadata": {},
   "outputs": [],
   "source": [
    "conditions.head()"
   ]
  },
  {
   "cell_type": "code",
   "execution_count": null,
   "metadata": {},
   "outputs": [],
   "source": [
    "len(conditions[\"condition\"].unique())"
   ]
  },
  {
   "cell_type": "code",
   "execution_count": null,
   "metadata": {},
   "outputs": [],
   "source": [
    "conditions.shape"
   ]
  },
  {
   "cell_type": "code",
   "execution_count": null,
   "metadata": {},
   "outputs": [],
   "source": [
    "conditions[\"dateEnd\"].fillna(\"2999-12-31 00:00:00\", inplace=True)\n",
    "conditions.fillna(\"\", inplace=True)"
   ]
  },
  {
   "cell_type": "code",
   "execution_count": null,
   "metadata": {},
   "outputs": [],
   "source": [
    "# CREATE VERTEX Condition (PRIMARY_ID Id STRING, Code STRING, Description STRING)\n",
    "# CREATE DIRECTED EDGE hasCondition (FROM Patient, TO Condition, Started DATETIME, Stopped DATETIME DEFAULT \"2999-12-31 00:00:00\") WITH REVERSE_EDGE = \"patientCondition\"\n",
    "def upsertConditions(row):\n",
    "    attributes = {\n",
    "        \"Code\": str(row[\"code\"]),\n",
    "        \"Description\": row[\"description\"]\n",
    "    }\n",
    "\n",
    "    conn.upsertVertex(\"Condition\", row[\"code\"], attributes)\n",
    "    conn.upsertEdge(\"Patient\", row[\"patient\"], \"hasCondition\", \"Condition\", row[\"code\"])"
   ]
  },
  {
   "cell_type": "code",
   "execution_count": null,
   "metadata": {},
   "outputs": [],
   "source": [
    "conditions.apply(lambda row: upsertConditions(row), axis=1)"
   ]
  },
  {
   "cell_type": "code",
   "execution_count": null,
   "metadata": {},
   "outputs": [],
   "source": [
    "procedures.head()"
   ]
  },
  {
   "cell_type": "code",
   "execution_count": null,
   "metadata": {},
   "outputs": [],
   "source": [
    "procedures.fillna(\"\", inplace=True)"
   ]
  },
  {
   "cell_type": "code",
   "execution_count": null,
   "metadata": {},
   "outputs": [],
   "source": [
    "# CREATE VERTEX PatientProcedure(PRIMARY_ID Id STRING, Code STRING, Description STRING, Cost DOUBLE, ReasonCode STRING, ReasonDescription STRING)\n",
    "# CREATE DIRECTED EDGE hasProcedure (FROM Patient, TO PatientProcedure, Performed DATETIME) WITH REVERSE_EDGE = \"patientProcedure\"\n",
    "# CREATE DIRECTED EDGE procedureDuringVisit (FROM PatientProcedure, TO Visit, Performed DATETIME) WITH REVERSE_EDGE = \"visitForProcedure\"\n",
    "\n",
    "def upsertProcedure(row):\n",
    "    attributes = {\n",
    "        \"Code\": str(row[\"code\"]),\n",
    "        \"Description\": row[\"description\"],\n",
    "        \"Cost\": row[\"cost\"],\n",
    "        \"ReasonCode\": str(row[\"reasonCode\"]),\n",
    "        \"ReasonDescription\": row[\"reasonDescription\"]\n",
    "    }\n",
    "\n",
    "    conn.upsertVertex(\"PatientProcedure\", row[\"code\"], attributes)\n",
    "\n",
    "    edgeAttributes = {\n",
    "        \"Performed\": row[\"date\"]\n",
    "    }\n",
    "\n",
    "    conn.upsertEdge(\"Patient\", row[\"patient\"], \"hasProcedure\", \"PatientProcedure\", row[\"code\"], edgeAttributes)\n",
    "    conn.upsertEdge(\"PatientProcedure\", row[\"code\"], \"procedureDuringVisit\", \"Visit\", row[\"encounter\"], edgeAttributes)"
   ]
  },
  {
   "cell_type": "code",
   "execution_count": null,
   "metadata": {},
   "outputs": [],
   "source": [
    "procedures.apply(lambda row: upsertProcedure(row), axis=1)"
   ]
  },
  {
   "cell_type": "code",
   "execution_count": null,
   "metadata": {},
   "outputs": [],
   "source": []
  }
 ],
 "metadata": {
  "language_info": {
   "codemirror_mode": {
    "name": "ipython",
    "version": 3
   },
   "file_extension": ".py",
   "mimetype": "text/x-python",
   "name": "python",
   "nbconvert_exporter": "python",
   "pygments_lexer": "ipython3",
   "version": "3.7.7-final"
  },
  "orig_nbformat": 2,
  "kernelspec": {
   "name": "python37764bitaf3ccae12e254608b05c8f3548e9d817",
   "display_name": "Python 3.7.7 64-bit"
  }
 },
 "nbformat": 4,
 "nbformat_minor": 2
}