{
 "cells": [
  {
   "cell_type": "markdown",
   "metadata": {},
   "source": [
    "# Connecting to and starting TigerGraph service\n",
    "Make sure to increase RAM available first\n",
    "\n",
    "```ssh -p 14022 tigergraph@localhost```\n",
    "\n",
    "Password: tigergraph\n",
    "\n",
    "Once sshed into the container, run\n",
    "\n",
    "```gadmin start all```"
   ]
  },
  {
   "cell_type": "code",
   "execution_count": 1,
   "metadata": {},
   "outputs": [],
   "source": [
    "import pandas as pd\n",
    "import pyTigerGraph as tg\n",
    "\n",
    "cloud = True"
   ]
  },
  {
   "cell_type": "code",
   "execution_count": 2,
   "metadata": {
    "tags": []
   },
   "outputs": [],
   "source": [
    "if cloud:\n",
    "    conn = tg.TigerGraphConnection(host=\"https://syntheapytg.i.tgcloud.io\", useCert=True, gsqlVersion=\"3.0.5\")\n",
    "else:\n",
    "    conn = tg.TigerGraphConnection(host=\"http://localhost\")"
   ]
  },
  {
   "cell_type": "code",
   "execution_count": 3,
   "metadata": {
    "tags": []
   },
   "outputs": [
    {
     "output_type": "stream",
     "name": "stdout",
     "text": [
      "========================\nTrying version: v3_0_5\nConnecting to syntheapytg.i.tgcloud.io:14240\nWARNING: sun.reflect.Reflection.getCallerClass is not supported. This will impact performance.\nIf there is any relative path, it is relative to <System.AppRoot>/dev/gdk/gsql\nDropping all, about 1 minute ...\nAbort all active loading jobs\nResetting GPE...\nSuccessfully reset GPE\nStopping GPE GSE\nSuccessfully stopped GPE GSE in 0.041 seconds\nClearing graph store...\nSuccessfully cleared graph store\nEverything is dropped.\n\n"
     ]
    }
   ],
   "source": [
    "print(conn.gsql(\"DROP ALL\", options=[]))"
   ]
  },
  {
   "cell_type": "code",
   "execution_count": 4,
   "metadata": {},
   "outputs": [],
   "source": [
    "conditions = pd.read_csv(\"data/conditions.csv\", names=[\"dateStart\", \"dateEnd\", \"patient\", \"condition\", \"code\", \"description\"])\n",
    "medications = pd.read_csv(\"data/medications.csv\", names=[\"dateStart\", \"dateEnd\", \"patient\", \"medication\", \"code\" , \"description\", \"cost\", \"dispenses\", \"totalCost\", \"reasonCode\", \"reasonDesc\"])\n",
    "patients = pd.read_csv(\"data/patients.csv\", names=[\"id\",\"birthDate\",\"deathDate\",\"ssn\",\"drivers\",\"passport\",\"prefix\",\"first\",\"last\",\"suffix\",\"maiden\",\"marital\",\"race\",\"ethnicity\",\"gender\",\"birthPlace\",\"address\",\"city\",\"state\",\"zip\"])\n",
    "procedures = pd.read_csv(\"data/procedures.csv\", names=[\"date\", \"patient\", \"encounter\", \"code\", \"description\", \"cost\", \"reasonCode\", \"reasonDescription\"])\n",
    "providers = pd.read_csv(\"data/providers.csv\", names=[\"id\",\"organization\",\"name\",\"gender\",\"specialty\",\"address\",\"city\",\"state\",\"zip\",\"utilization\"])\n",
    "encounters = pd.read_csv(\"data/encounters.csv\", names=[\"id\",\"dateStart\",\"dateStop\",\"patient\",\"provider\",\"encounterClass\",\"code\",\"description\",\"cost\",\"reasonCode\",\"reasonDescription\"])"
   ]
  },
  {
   "cell_type": "code",
   "execution_count": 5,
   "metadata": {},
   "outputs": [
    {
     "output_type": "execute_result",
     "data": {
      "text/plain": [
       "                                     id   birthDate deathDate          ssn  \\\n",
       "0  35e0c202-7d79-40cb-84f1-1b69e6f6be3c  1985-12-17       NaN  999-59-3229   \n",
       "1  ffd2b713-518b-4660-b112-e1ee298ac8d1  1990-10-20       NaN  999-77-6505   \n",
       "2  5311bb0b-a96c-4bab-8713-bc9405c420ee  1983-05-03       NaN  999-50-9809   \n",
       "3  81b0149c-1b72-4e63-9ee4-62e4856fdd5c  1953-07-16       NaN  999-12-3651   \n",
       "4  d1f14152-8766-40cc-a53b-9e78aba41bc0  2002-08-02       NaN  999-45-4207   \n",
       "\n",
       "     drivers    passport prefix       first           last suffix maiden  \\\n",
       "0  S99985207  X13132187X    Mr.  Ignacio928  Candelaria844    NaN    NaN   \n",
       "1  S99942717  X36715867X    Mr.    Robbie31     Parisian75    NaN    NaN   \n",
       "2  S99995282  X64495409X    Mr.   Sergio619        Dicki44    NaN    NaN   \n",
       "3  S99948962  X57816876X    Ms.   Cindie288       Hyatt152    NaN    NaN   \n",
       "4  S99955456         NaN    NaN     Hsiu839  Rutherford999    NaN    NaN   \n",
       "\n",
       "  marital   race    ethnicity gender                         birthPlace  \\\n",
       "0       M  black    dominican      M  Portsmouth  Saint John Parish  DM   \n",
       "1       M  black  west_indian      M        Cheshire  Massachusetts  US   \n",
       "2       M  white      english      M          Malden  Massachusetts  US   \n",
       "3       S  white       french      F         Waltham  Massachusetts  US   \n",
       "4     NaN  white       french      F       Worcester  Massachusetts  US   \n",
       "\n",
       "                        address       city          state     zip  \n",
       "0  940 Cummerata Pathway Apt 23  Worcester  Massachusetts  1545.0  \n",
       "1           698 Cummerata Rapid     Boston  Massachusetts  2108.0  \n",
       "2          761 Lubowitz Terrace     Malden  Massachusetts  2148.0  \n",
       "3        1066 Weimann Extension  Brookline  Massachusetts  2215.0  \n",
       "4  622 Breitenberg Club Unit 79     Lowell  Massachusetts  1850.0  "
      ],
      "text/html": "<div>\n<style scoped>\n    .dataframe tbody tr th:only-of-type {\n        vertical-align: middle;\n    }\n\n    .dataframe tbody tr th {\n        vertical-align: top;\n    }\n\n    .dataframe thead th {\n        text-align: right;\n    }\n</style>\n<table border=\"1\" class=\"dataframe\">\n  <thead>\n    <tr style=\"text-align: right;\">\n      <th></th>\n      <th>id</th>\n      <th>birthDate</th>\n      <th>deathDate</th>\n      <th>ssn</th>\n      <th>drivers</th>\n      <th>passport</th>\n      <th>prefix</th>\n      <th>first</th>\n      <th>last</th>\n      <th>suffix</th>\n      <th>maiden</th>\n      <th>marital</th>\n      <th>race</th>\n      <th>ethnicity</th>\n      <th>gender</th>\n      <th>birthPlace</th>\n      <th>address</th>\n      <th>city</th>\n      <th>state</th>\n      <th>zip</th>\n    </tr>\n  </thead>\n  <tbody>\n    <tr>\n      <th>0</th>\n      <td>35e0c202-7d79-40cb-84f1-1b69e6f6be3c</td>\n      <td>1985-12-17</td>\n      <td>NaN</td>\n      <td>999-59-3229</td>\n      <td>S99985207</td>\n      <td>X13132187X</td>\n      <td>Mr.</td>\n      <td>Ignacio928</td>\n      <td>Candelaria844</td>\n      <td>NaN</td>\n      <td>NaN</td>\n      <td>M</td>\n      <td>black</td>\n      <td>dominican</td>\n      <td>M</td>\n      <td>Portsmouth  Saint John Parish  DM</td>\n      <td>940 Cummerata Pathway Apt 23</td>\n      <td>Worcester</td>\n      <td>Massachusetts</td>\n      <td>1545.0</td>\n    </tr>\n    <tr>\n      <th>1</th>\n      <td>ffd2b713-518b-4660-b112-e1ee298ac8d1</td>\n      <td>1990-10-20</td>\n      <td>NaN</td>\n      <td>999-77-6505</td>\n      <td>S99942717</td>\n      <td>X36715867X</td>\n      <td>Mr.</td>\n      <td>Robbie31</td>\n      <td>Parisian75</td>\n      <td>NaN</td>\n      <td>NaN</td>\n      <td>M</td>\n      <td>black</td>\n      <td>west_indian</td>\n      <td>M</td>\n      <td>Cheshire  Massachusetts  US</td>\n      <td>698 Cummerata Rapid</td>\n      <td>Boston</td>\n      <td>Massachusetts</td>\n      <td>2108.0</td>\n    </tr>\n    <tr>\n      <th>2</th>\n      <td>5311bb0b-a96c-4bab-8713-bc9405c420ee</td>\n      <td>1983-05-03</td>\n      <td>NaN</td>\n      <td>999-50-9809</td>\n      <td>S99995282</td>\n      <td>X64495409X</td>\n      <td>Mr.</td>\n      <td>Sergio619</td>\n      <td>Dicki44</td>\n      <td>NaN</td>\n      <td>NaN</td>\n      <td>M</td>\n      <td>white</td>\n      <td>english</td>\n      <td>M</td>\n      <td>Malden  Massachusetts  US</td>\n      <td>761 Lubowitz Terrace</td>\n      <td>Malden</td>\n      <td>Massachusetts</td>\n      <td>2148.0</td>\n    </tr>\n    <tr>\n      <th>3</th>\n      <td>81b0149c-1b72-4e63-9ee4-62e4856fdd5c</td>\n      <td>1953-07-16</td>\n      <td>NaN</td>\n      <td>999-12-3651</td>\n      <td>S99948962</td>\n      <td>X57816876X</td>\n      <td>Ms.</td>\n      <td>Cindie288</td>\n      <td>Hyatt152</td>\n      <td>NaN</td>\n      <td>NaN</td>\n      <td>S</td>\n      <td>white</td>\n      <td>french</td>\n      <td>F</td>\n      <td>Waltham  Massachusetts  US</td>\n      <td>1066 Weimann Extension</td>\n      <td>Brookline</td>\n      <td>Massachusetts</td>\n      <td>2215.0</td>\n    </tr>\n    <tr>\n      <th>4</th>\n      <td>d1f14152-8766-40cc-a53b-9e78aba41bc0</td>\n      <td>2002-08-02</td>\n      <td>NaN</td>\n      <td>999-45-4207</td>\n      <td>S99955456</td>\n      <td>NaN</td>\n      <td>NaN</td>\n      <td>Hsiu839</td>\n      <td>Rutherford999</td>\n      <td>NaN</td>\n      <td>NaN</td>\n      <td>NaN</td>\n      <td>white</td>\n      <td>french</td>\n      <td>F</td>\n      <td>Worcester  Massachusetts  US</td>\n      <td>622 Breitenberg Club Unit 79</td>\n      <td>Lowell</td>\n      <td>Massachusetts</td>\n      <td>1850.0</td>\n    </tr>\n  </tbody>\n</table>\n</div>"
     },
     "metadata": {},
     "execution_count": 5
    }
   ],
   "source": [
    "patients.head()"
   ]
  },
  {
   "cell_type": "code",
   "execution_count": 6,
   "metadata": {},
   "outputs": [
    {
     "output_type": "execute_result",
     "data": {
      "text/plain": [
       "                                     id                          organization  \\\n",
       "0  ef58ea08-d883-3957-8300-150554edc8fb  53a17430-bbb3-4c12-bf40-431a79de2764   \n",
       "1  69176529-fd1f-3b3f-abce-a0a3626769eb  b59e8b09-1421-43b6-badc-9bb317f744c1   \n",
       "2  5e765f2b-e908-3888-9fc7-df2cb87beb58  0dda7391-f13e-4081-9177-14e2deaa0885   \n",
       "3  f1fbcbfb-fcfa-3bd2-b7f4-df20f1b3c3a4  07ffa70e-326a-4f88-a6b0-4f3009e4171a   \n",
       "4  e002090d-4e92-300e-b41e-7d1f21dee4c6  26c6423a-1f26-4aef-9d69-fa9aa0cf7737   \n",
       "\n",
       "                   name gender         specialty                  address  \\\n",
       "0     Noe500 Dibbert990      M  GENERAL PRACTICE         60 HOSPITAL ROAD   \n",
       "1  Mariam937 Gleason633      F  GENERAL PRACTICE  330 MOUNT AUBURN STREET   \n",
       "2      Dagny669 Schoen8      F  GENERAL PRACTICE          211 PARK STREET   \n",
       "3    Tyron580 Torphy630      M  GENERAL PRACTICE       ONE GENERAL STREET   \n",
       "4       Loren192 Fay398      M  GENERAL PRACTICE    1493 CAMBRIDGE STREET   \n",
       "\n",
       "         city state   zip  utilization  \n",
       "0  LEOMINSTER    MA  1453         3585  \n",
       "1   CAMBRIDGE    MA  2138         4711  \n",
       "2   ATTLEBORO    MA  2703         7141  \n",
       "3    LAWRENCE    MA  1842         5455  \n",
       "4   CAMBRIDGE    MA  2138         4715  "
      ],
      "text/html": "<div>\n<style scoped>\n    .dataframe tbody tr th:only-of-type {\n        vertical-align: middle;\n    }\n\n    .dataframe tbody tr th {\n        vertical-align: top;\n    }\n\n    .dataframe thead th {\n        text-align: right;\n    }\n</style>\n<table border=\"1\" class=\"dataframe\">\n  <thead>\n    <tr style=\"text-align: right;\">\n      <th></th>\n      <th>id</th>\n      <th>organization</th>\n      <th>name</th>\n      <th>gender</th>\n      <th>specialty</th>\n      <th>address</th>\n      <th>city</th>\n      <th>state</th>\n      <th>zip</th>\n      <th>utilization</th>\n    </tr>\n  </thead>\n  <tbody>\n    <tr>\n      <th>0</th>\n      <td>ef58ea08-d883-3957-8300-150554edc8fb</td>\n      <td>53a17430-bbb3-4c12-bf40-431a79de2764</td>\n      <td>Noe500 Dibbert990</td>\n      <td>M</td>\n      <td>GENERAL PRACTICE</td>\n      <td>60 HOSPITAL ROAD</td>\n      <td>LEOMINSTER</td>\n      <td>MA</td>\n      <td>1453</td>\n      <td>3585</td>\n    </tr>\n    <tr>\n      <th>1</th>\n      <td>69176529-fd1f-3b3f-abce-a0a3626769eb</td>\n      <td>b59e8b09-1421-43b6-badc-9bb317f744c1</td>\n      <td>Mariam937 Gleason633</td>\n      <td>F</td>\n      <td>GENERAL PRACTICE</td>\n      <td>330 MOUNT AUBURN STREET</td>\n      <td>CAMBRIDGE</td>\n      <td>MA</td>\n      <td>2138</td>\n      <td>4711</td>\n    </tr>\n    <tr>\n      <th>2</th>\n      <td>5e765f2b-e908-3888-9fc7-df2cb87beb58</td>\n      <td>0dda7391-f13e-4081-9177-14e2deaa0885</td>\n      <td>Dagny669 Schoen8</td>\n      <td>F</td>\n      <td>GENERAL PRACTICE</td>\n      <td>211 PARK STREET</td>\n      <td>ATTLEBORO</td>\n      <td>MA</td>\n      <td>2703</td>\n      <td>7141</td>\n    </tr>\n    <tr>\n      <th>3</th>\n      <td>f1fbcbfb-fcfa-3bd2-b7f4-df20f1b3c3a4</td>\n      <td>07ffa70e-326a-4f88-a6b0-4f3009e4171a</td>\n      <td>Tyron580 Torphy630</td>\n      <td>M</td>\n      <td>GENERAL PRACTICE</td>\n      <td>ONE GENERAL STREET</td>\n      <td>LAWRENCE</td>\n      <td>MA</td>\n      <td>1842</td>\n      <td>5455</td>\n    </tr>\n    <tr>\n      <th>4</th>\n      <td>e002090d-4e92-300e-b41e-7d1f21dee4c6</td>\n      <td>26c6423a-1f26-4aef-9d69-fa9aa0cf7737</td>\n      <td>Loren192 Fay398</td>\n      <td>M</td>\n      <td>GENERAL PRACTICE</td>\n      <td>1493 CAMBRIDGE STREET</td>\n      <td>CAMBRIDGE</td>\n      <td>MA</td>\n      <td>2138</td>\n      <td>4715</td>\n    </tr>\n  </tbody>\n</table>\n</div>"
     },
     "metadata": {},
     "execution_count": 6
    }
   ],
   "source": [
    "providers.head()"
   ]
  },
  {
   "cell_type": "code",
   "execution_count": 7,
   "metadata": {},
   "outputs": [
    {
     "output_type": "execute_result",
     "data": {
      "text/plain": [
       "    dateStart     dateEnd                               patient  \\\n",
       "0  1992-10-26         NaN  ffd2b713-518b-4660-b112-e1ee298ac8d1   \n",
       "1  2012-04-16  2012-06-22  ffd2b713-518b-4660-b112-e1ee298ac8d1   \n",
       "2  2012-08-26  2012-09-16  ffd2b713-518b-4660-b112-e1ee298ac8d1   \n",
       "3  2015-01-14  2015-01-28  35e0c202-7d79-40cb-84f1-1b69e6f6be3c   \n",
       "4  2013-11-21  2013-12-12  5311bb0b-a96c-4bab-8713-bc9405c420ee   \n",
       "\n",
       "                              condition       code  \\\n",
       "0  848ce5a7-49d4-4d16-a07b-9c9efd3bae13  446096008   \n",
       "1  b08c099f-17d4-4789-adc3-63a4d3562f57   30832001   \n",
       "2  b895cc31-dbcb-4ae9-926e-8103f61e605c  444814009   \n",
       "3  367aa2ee-6416-46b3-b645-12f693ae57d1  283371005   \n",
       "4  522fbd8c-652b-4f19-b58a-3504f2bc7ecd   75498004   \n",
       "\n",
       "                            description  \n",
       "0           Perennial allergic rhinitis  \n",
       "1            Rupture of patellar tendon  \n",
       "2            Viral sinusitis (disorder)  \n",
       "3                 Laceration of forearm  \n",
       "4  Acute bacterial sinusitis (disorder)  "
      ],
      "text/html": "<div>\n<style scoped>\n    .dataframe tbody tr th:only-of-type {\n        vertical-align: middle;\n    }\n\n    .dataframe tbody tr th {\n        vertical-align: top;\n    }\n\n    .dataframe thead th {\n        text-align: right;\n    }\n</style>\n<table border=\"1\" class=\"dataframe\">\n  <thead>\n    <tr style=\"text-align: right;\">\n      <th></th>\n      <th>dateStart</th>\n      <th>dateEnd</th>\n      <th>patient</th>\n      <th>condition</th>\n      <th>code</th>\n      <th>description</th>\n    </tr>\n  </thead>\n  <tbody>\n    <tr>\n      <th>0</th>\n      <td>1992-10-26</td>\n      <td>NaN</td>\n      <td>ffd2b713-518b-4660-b112-e1ee298ac8d1</td>\n      <td>848ce5a7-49d4-4d16-a07b-9c9efd3bae13</td>\n      <td>446096008</td>\n      <td>Perennial allergic rhinitis</td>\n    </tr>\n    <tr>\n      <th>1</th>\n      <td>2012-04-16</td>\n      <td>2012-06-22</td>\n      <td>ffd2b713-518b-4660-b112-e1ee298ac8d1</td>\n      <td>b08c099f-17d4-4789-adc3-63a4d3562f57</td>\n      <td>30832001</td>\n      <td>Rupture of patellar tendon</td>\n    </tr>\n    <tr>\n      <th>2</th>\n      <td>2012-08-26</td>\n      <td>2012-09-16</td>\n      <td>ffd2b713-518b-4660-b112-e1ee298ac8d1</td>\n      <td>b895cc31-dbcb-4ae9-926e-8103f61e605c</td>\n      <td>444814009</td>\n      <td>Viral sinusitis (disorder)</td>\n    </tr>\n    <tr>\n      <th>3</th>\n      <td>2015-01-14</td>\n      <td>2015-01-28</td>\n      <td>35e0c202-7d79-40cb-84f1-1b69e6f6be3c</td>\n      <td>367aa2ee-6416-46b3-b645-12f693ae57d1</td>\n      <td>283371005</td>\n      <td>Laceration of forearm</td>\n    </tr>\n    <tr>\n      <th>4</th>\n      <td>2013-11-21</td>\n      <td>2013-12-12</td>\n      <td>5311bb0b-a96c-4bab-8713-bc9405c420ee</td>\n      <td>522fbd8c-652b-4f19-b58a-3504f2bc7ecd</td>\n      <td>75498004</td>\n      <td>Acute bacterial sinusitis (disorder)</td>\n    </tr>\n  </tbody>\n</table>\n</div>"
     },
     "metadata": {},
     "execution_count": 7
    }
   ],
   "source": [
    "conditions.head()"
   ]
  },
  {
   "cell_type": "code",
   "execution_count": 8,
   "metadata": {},
   "outputs": [
    {
     "output_type": "execute_result",
     "data": {
      "text/plain": [
       "    dateStart dateEnd                               patient  \\\n",
       "0  1992-02-27     NaN  ffd2b713-518b-4660-b112-e1ee298ac8d1   \n",
       "1  1992-02-27     NaN  ffd2b713-518b-4660-b112-e1ee298ac8d1   \n",
       "2  1984-04-15     NaN  5311bb0b-a96c-4bab-8713-bc9405c420ee   \n",
       "3  1986-05-09     NaN  5311bb0b-a96c-4bab-8713-bc9405c420ee   \n",
       "4  1986-05-09     NaN  5311bb0b-a96c-4bab-8713-bc9405c420ee   \n",
       "\n",
       "                             medication     code  \\\n",
       "0  3348b59d-e0e4-4801-9e2a-ba3358869a05   665078   \n",
       "1  3348b59d-e0e4-4801-9e2a-ba3358869a05  1870230   \n",
       "2  d2a76b2a-e58d-4d0c-91e3-e7819ea6dcb1   477045   \n",
       "3  1c9c93fd-74dd-4b6d-8501-885c32f508b0   895994   \n",
       "4  1c9c93fd-74dd-4b6d-8501-885c32f508b0   745679   \n",
       "\n",
       "                                         description    cost  dispenses  \\\n",
       "0                    Loratadine 5 MG Chewable Tablet   11.58        331   \n",
       "1  NDA020800 0.3 ML Epinephrine 1 MG/ML Auto-Inje...  386.35        331   \n",
       "2     Chlorpheniramine Maleate 2 MG/ML Oral Solution    7.46        427   \n",
       "3  120 ACTUAT Fluticasone propionate 0.044 MG/ACT...   44.03        402   \n",
       "4  200 ACTUAT Albuterol 0.09 MG/ACTUAT Metered Do...   73.05        402   \n",
       "\n",
       "   totalCost   reasonCode        reasonDesc  \n",
       "0    3832.98          NaN               NaN  \n",
       "1  127881.85          NaN               NaN  \n",
       "2    3185.42          NaN               NaN  \n",
       "3   17700.06  233678006.0  Childhood asthma  \n",
       "4   29366.10  233678006.0  Childhood asthma  "
      ],
      "text/html": "<div>\n<style scoped>\n    .dataframe tbody tr th:only-of-type {\n        vertical-align: middle;\n    }\n\n    .dataframe tbody tr th {\n        vertical-align: top;\n    }\n\n    .dataframe thead th {\n        text-align: right;\n    }\n</style>\n<table border=\"1\" class=\"dataframe\">\n  <thead>\n    <tr style=\"text-align: right;\">\n      <th></th>\n      <th>dateStart</th>\n      <th>dateEnd</th>\n      <th>patient</th>\n      <th>medication</th>\n      <th>code</th>\n      <th>description</th>\n      <th>cost</th>\n      <th>dispenses</th>\n      <th>totalCost</th>\n      <th>reasonCode</th>\n      <th>reasonDesc</th>\n    </tr>\n  </thead>\n  <tbody>\n    <tr>\n      <th>0</th>\n      <td>1992-02-27</td>\n      <td>NaN</td>\n      <td>ffd2b713-518b-4660-b112-e1ee298ac8d1</td>\n      <td>3348b59d-e0e4-4801-9e2a-ba3358869a05</td>\n      <td>665078</td>\n      <td>Loratadine 5 MG Chewable Tablet</td>\n      <td>11.58</td>\n      <td>331</td>\n      <td>3832.98</td>\n      <td>NaN</td>\n      <td>NaN</td>\n    </tr>\n    <tr>\n      <th>1</th>\n      <td>1992-02-27</td>\n      <td>NaN</td>\n      <td>ffd2b713-518b-4660-b112-e1ee298ac8d1</td>\n      <td>3348b59d-e0e4-4801-9e2a-ba3358869a05</td>\n      <td>1870230</td>\n      <td>NDA020800 0.3 ML Epinephrine 1 MG/ML Auto-Inje...</td>\n      <td>386.35</td>\n      <td>331</td>\n      <td>127881.85</td>\n      <td>NaN</td>\n      <td>NaN</td>\n    </tr>\n    <tr>\n      <th>2</th>\n      <td>1984-04-15</td>\n      <td>NaN</td>\n      <td>5311bb0b-a96c-4bab-8713-bc9405c420ee</td>\n      <td>d2a76b2a-e58d-4d0c-91e3-e7819ea6dcb1</td>\n      <td>477045</td>\n      <td>Chlorpheniramine Maleate 2 MG/ML Oral Solution</td>\n      <td>7.46</td>\n      <td>427</td>\n      <td>3185.42</td>\n      <td>NaN</td>\n      <td>NaN</td>\n    </tr>\n    <tr>\n      <th>3</th>\n      <td>1986-05-09</td>\n      <td>NaN</td>\n      <td>5311bb0b-a96c-4bab-8713-bc9405c420ee</td>\n      <td>1c9c93fd-74dd-4b6d-8501-885c32f508b0</td>\n      <td>895994</td>\n      <td>120 ACTUAT Fluticasone propionate 0.044 MG/ACT...</td>\n      <td>44.03</td>\n      <td>402</td>\n      <td>17700.06</td>\n      <td>233678006.0</td>\n      <td>Childhood asthma</td>\n    </tr>\n    <tr>\n      <th>4</th>\n      <td>1986-05-09</td>\n      <td>NaN</td>\n      <td>5311bb0b-a96c-4bab-8713-bc9405c420ee</td>\n      <td>1c9c93fd-74dd-4b6d-8501-885c32f508b0</td>\n      <td>745679</td>\n      <td>200 ACTUAT Albuterol 0.09 MG/ACTUAT Metered Do...</td>\n      <td>73.05</td>\n      <td>402</td>\n      <td>29366.10</td>\n      <td>233678006.0</td>\n      <td>Childhood asthma</td>\n    </tr>\n  </tbody>\n</table>\n</div>"
     },
     "metadata": {},
     "execution_count": 8
    }
   ],
   "source": [
    "medications.head()"
   ]
  },
  {
   "cell_type": "code",
   "execution_count": 9,
   "metadata": {},
   "outputs": [
    {
     "output_type": "execute_result",
     "data": {
      "text/plain": [
       "           date                               patient  \\\n",
       "10   2009-08-20  81b0149c-1b72-4e63-9ee4-62e4856fdd5c   \n",
       "15   2011-11-12  d1f14152-8766-40cc-a53b-9e78aba41bc0   \n",
       "47   2010-07-03  3508df6f-ed81-4d4a-8c4e-55494674bb49   \n",
       "70   2011-04-15  3f33dcdd-8838-4077-910c-9fe59aa68796   \n",
       "173  2018-07-17  690e02eb-ed39-4d43-b9e9-44ee91b931f6   \n",
       "\n",
       "                                encounter             code  \\\n",
       "10   09a28878-7978-4989-ac3d-4928e442e089  428191000124101   \n",
       "15   e6f00c20-12dc-4865-94a9-78a537f6ec0b        117015009   \n",
       "47   50bb18ec-e46d-4cda-b748-c224a27e517a  428191000124101   \n",
       "70   0f01a013-c894-4387-ba6d-354f40d87a18  428191000124101   \n",
       "173  34a34165-2252-4e55-80a7-473ab7a1be53        118001005   \n",
       "\n",
       "                                       description     cost  reasonCode  \\\n",
       "10            Documentation of current medications   492.65         NaN   \n",
       "15                      Throat culture (procedure)  2282.58  43878008.0   \n",
       "47            Documentation of current medications   612.12         NaN   \n",
       "70            Documentation of current medications   483.63         NaN   \n",
       "173  Streptococcus pneumoniae group B antigen test  2179.01  72892002.0   \n",
       "\n",
       "                        reasonDescription  \n",
       "10                                    NaN  \n",
       "15   Streptococcal sore throat (disorder)  \n",
       "47                                    NaN  \n",
       "70                                    NaN  \n",
       "173                      Normal pregnancy  "
      ],
      "text/html": "<div>\n<style scoped>\n    .dataframe tbody tr th:only-of-type {\n        vertical-align: middle;\n    }\n\n    .dataframe tbody tr th {\n        vertical-align: top;\n    }\n\n    .dataframe thead th {\n        text-align: right;\n    }\n</style>\n<table border=\"1\" class=\"dataframe\">\n  <thead>\n    <tr style=\"text-align: right;\">\n      <th></th>\n      <th>date</th>\n      <th>patient</th>\n      <th>encounter</th>\n      <th>code</th>\n      <th>description</th>\n      <th>cost</th>\n      <th>reasonCode</th>\n      <th>reasonDescription</th>\n    </tr>\n  </thead>\n  <tbody>\n    <tr>\n      <th>10</th>\n      <td>2009-08-20</td>\n      <td>81b0149c-1b72-4e63-9ee4-62e4856fdd5c</td>\n      <td>09a28878-7978-4989-ac3d-4928e442e089</td>\n      <td>428191000124101</td>\n      <td>Documentation of current medications</td>\n      <td>492.65</td>\n      <td>NaN</td>\n      <td>NaN</td>\n    </tr>\n    <tr>\n      <th>15</th>\n      <td>2011-11-12</td>\n      <td>d1f14152-8766-40cc-a53b-9e78aba41bc0</td>\n      <td>e6f00c20-12dc-4865-94a9-78a537f6ec0b</td>\n      <td>117015009</td>\n      <td>Throat culture (procedure)</td>\n      <td>2282.58</td>\n      <td>43878008.0</td>\n      <td>Streptococcal sore throat (disorder)</td>\n    </tr>\n    <tr>\n      <th>47</th>\n      <td>2010-07-03</td>\n      <td>3508df6f-ed81-4d4a-8c4e-55494674bb49</td>\n      <td>50bb18ec-e46d-4cda-b748-c224a27e517a</td>\n      <td>428191000124101</td>\n      <td>Documentation of current medications</td>\n      <td>612.12</td>\n      <td>NaN</td>\n      <td>NaN</td>\n    </tr>\n    <tr>\n      <th>70</th>\n      <td>2011-04-15</td>\n      <td>3f33dcdd-8838-4077-910c-9fe59aa68796</td>\n      <td>0f01a013-c894-4387-ba6d-354f40d87a18</td>\n      <td>428191000124101</td>\n      <td>Documentation of current medications</td>\n      <td>483.63</td>\n      <td>NaN</td>\n      <td>NaN</td>\n    </tr>\n    <tr>\n      <th>173</th>\n      <td>2018-07-17</td>\n      <td>690e02eb-ed39-4d43-b9e9-44ee91b931f6</td>\n      <td>34a34165-2252-4e55-80a7-473ab7a1be53</td>\n      <td>118001005</td>\n      <td>Streptococcus pneumoniae group B antigen test</td>\n      <td>2179.01</td>\n      <td>72892002.0</td>\n      <td>Normal pregnancy</td>\n    </tr>\n  </tbody>\n</table>\n</div>"
     },
     "metadata": {},
     "execution_count": 9
    }
   ],
   "source": [
    "procedures.head()"
   ]
  },
  {
   "cell_type": "code",
   "execution_count": 10,
   "metadata": {},
   "outputs": [
    {
     "output_type": "execute_result",
     "data": {
      "text/plain": [
       "                                         id             dateStart  \\\n",
       "37319  530fd72c-d063-4263-add9-833fe9497299  2011-07-10T09:54:17Z   \n",
       "9735   41e4b13a-a5f6-4dfb-8164-2d244423e049  2011-01-09T21:59:40Z   \n",
       "26799  dea845bc-46ff-4a7e-bdcd-4596dae925c6  2014-06-23T05:13:44Z   \n",
       "2829   ee70d6f8-5c5d-4c5d-99ad-ef20ddc06c19  2011-04-19T04:32:00Z   \n",
       "1878   e1cfdaaf-da77-4004-abf8-ffe8e439f434  2004-08-27T06:45:35Z   \n",
       "\n",
       "                   dateStop                               patient  \\\n",
       "37319  2011-07-10T10:09:17Z  1f6c814e-40d5-4d09-b96d-a32e61e8cc90   \n",
       "9735   2011-01-09T22:14:40Z  0c9435eb-d5a7-4ee3-9769-baadca06765b   \n",
       "26799  2014-06-23T05:43:44Z  2f9b2362-b5c9-49d2-960c-efae3710e900   \n",
       "2829   2011-04-19T05:02:00Z  7d275ce4-032c-4af0-8998-4f79fa12d274   \n",
       "1878   2004-08-27T07:00:35Z  a5e81695-0475-48e1-ae41-6f04d89a6ca7   \n",
       "\n",
       "                                   provider encounterClass       code  \\\n",
       "37319  ef58ea08-d883-3957-8300-150554edc8fb     ambulatory  185345009   \n",
       "9735   d78e84ec-30aa-3bba-a33a-f29a3a454662     outpatient  185347001   \n",
       "26799  d692e283-0833-3201-8e55-4f868a9c0736       wellness  185349003   \n",
       "2829   4bdaa4c2-c664-3089-aee2-7137abbad27f       wellness  185349003   \n",
       "1878   23834663-ed53-3da9-b330-d6e1ecb8428e     ambulatory  185347001   \n",
       "\n",
       "                              description    cost   reasonCode  \\\n",
       "37319               Encounter for symptom  129.16  444814009.0   \n",
       "9735    Encounter for problem (procedure)  129.16          NaN   \n",
       "26799  Encounter for check up (procedure)  129.16          NaN   \n",
       "2829   Encounter for check up (procedure)  129.16          NaN   \n",
       "1878                Encounter for problem  129.16  126906006.0   \n",
       "\n",
       "                reasonDescription  \n",
       "37319  Viral sinusitis (disorder)  \n",
       "9735                          NaN  \n",
       "26799                         NaN  \n",
       "2829                          NaN  \n",
       "1878         Neoplasm of prostate  "
      ],
      "text/html": "<div>\n<style scoped>\n    .dataframe tbody tr th:only-of-type {\n        vertical-align: middle;\n    }\n\n    .dataframe tbody tr th {\n        vertical-align: top;\n    }\n\n    .dataframe thead th {\n        text-align: right;\n    }\n</style>\n<table border=\"1\" class=\"dataframe\">\n  <thead>\n    <tr style=\"text-align: right;\">\n      <th></th>\n      <th>id</th>\n      <th>dateStart</th>\n      <th>dateStop</th>\n      <th>patient</th>\n      <th>provider</th>\n      <th>encounterClass</th>\n      <th>code</th>\n      <th>description</th>\n      <th>cost</th>\n      <th>reasonCode</th>\n      <th>reasonDescription</th>\n    </tr>\n  </thead>\n  <tbody>\n    <tr>\n      <th>37319</th>\n      <td>530fd72c-d063-4263-add9-833fe9497299</td>\n      <td>2011-07-10T09:54:17Z</td>\n      <td>2011-07-10T10:09:17Z</td>\n      <td>1f6c814e-40d5-4d09-b96d-a32e61e8cc90</td>\n      <td>ef58ea08-d883-3957-8300-150554edc8fb</td>\n      <td>ambulatory</td>\n      <td>185345009</td>\n      <td>Encounter for symptom</td>\n      <td>129.16</td>\n      <td>444814009.0</td>\n      <td>Viral sinusitis (disorder)</td>\n    </tr>\n    <tr>\n      <th>9735</th>\n      <td>41e4b13a-a5f6-4dfb-8164-2d244423e049</td>\n      <td>2011-01-09T21:59:40Z</td>\n      <td>2011-01-09T22:14:40Z</td>\n      <td>0c9435eb-d5a7-4ee3-9769-baadca06765b</td>\n      <td>d78e84ec-30aa-3bba-a33a-f29a3a454662</td>\n      <td>outpatient</td>\n      <td>185347001</td>\n      <td>Encounter for problem (procedure)</td>\n      <td>129.16</td>\n      <td>NaN</td>\n      <td>NaN</td>\n    </tr>\n    <tr>\n      <th>26799</th>\n      <td>dea845bc-46ff-4a7e-bdcd-4596dae925c6</td>\n      <td>2014-06-23T05:13:44Z</td>\n      <td>2014-06-23T05:43:44Z</td>\n      <td>2f9b2362-b5c9-49d2-960c-efae3710e900</td>\n      <td>d692e283-0833-3201-8e55-4f868a9c0736</td>\n      <td>wellness</td>\n      <td>185349003</td>\n      <td>Encounter for check up (procedure)</td>\n      <td>129.16</td>\n      <td>NaN</td>\n      <td>NaN</td>\n    </tr>\n    <tr>\n      <th>2829</th>\n      <td>ee70d6f8-5c5d-4c5d-99ad-ef20ddc06c19</td>\n      <td>2011-04-19T04:32:00Z</td>\n      <td>2011-04-19T05:02:00Z</td>\n      <td>7d275ce4-032c-4af0-8998-4f79fa12d274</td>\n      <td>4bdaa4c2-c664-3089-aee2-7137abbad27f</td>\n      <td>wellness</td>\n      <td>185349003</td>\n      <td>Encounter for check up (procedure)</td>\n      <td>129.16</td>\n      <td>NaN</td>\n      <td>NaN</td>\n    </tr>\n    <tr>\n      <th>1878</th>\n      <td>e1cfdaaf-da77-4004-abf8-ffe8e439f434</td>\n      <td>2004-08-27T06:45:35Z</td>\n      <td>2004-08-27T07:00:35Z</td>\n      <td>a5e81695-0475-48e1-ae41-6f04d89a6ca7</td>\n      <td>23834663-ed53-3da9-b330-d6e1ecb8428e</td>\n      <td>ambulatory</td>\n      <td>185347001</td>\n      <td>Encounter for problem</td>\n      <td>129.16</td>\n      <td>126906006.0</td>\n      <td>Neoplasm of prostate</td>\n    </tr>\n  </tbody>\n</table>\n</div>"
     },
     "metadata": {},
     "execution_count": 10
    }
   ],
   "source": [
    "encounters.head()"
   ]
  },
  {
   "cell_type": "markdown",
   "metadata": {},
   "source": [
    "Figure out how you would go about finding what patients have seen a given provider. Look in the encounters table, obviously. But what about if you wanted to know the patient's birthdate and medications, along with what provider they are seeing? Thats like 2 joins between 3 tables. On an enterprise scale of patients, this is *really* slow. Lets model these tables into a graph database."
   ]
  },
  {
   "cell_type": "markdown",
   "metadata": {},
   "source": [
    "# Creating Vertices\n",
    "We are going to create vertices for our data to reside on. We will then join these vertices together with edges."
   ]
  },
  {
   "cell_type": "code",
   "execution_count": 11,
   "metadata": {
    "tags": []
   },
   "outputs": [
    {
     "output_type": "stream",
     "name": "stdout",
     "text": [
      "========================\nTrying version: v3_0_5\nConnecting to syntheapytg.i.tgcloud.io:14240\nWARNING: sun.reflect.Reflection.getCallerClass is not supported. This will impact performance.\nIf there is any relative path, it is relative to <System.AppRoot>/dev/gdk/gsql\nThe vertex type Patient is created.\n\n"
     ]
    }
   ],
   "source": [
    "print(conn.gsql('''\n",
    "    CREATE VERTEX Patient (PRIMARY_ID Id STRING, FirstName STRING, LastName STRING, Prefix STRING, Suffix STRING, MaidenName STRING, MaritalStatus STRING, Gender STRING, Race STRING, Ethnicity STRING, DateOfBirth DATETIME, DateOfDeath DATETIME DEFAULT \"2999-12-31 00:00:00\", SSN STRING, DL STRING, Passport STRING )\n",
    "''', options=[]))"
   ]
  },
  {
   "cell_type": "code",
   "execution_count": 12,
   "metadata": {
    "tags": []
   },
   "outputs": [
    {
     "output_type": "stream",
     "name": "stdout",
     "text": [
      "========================\nTrying version: v3_0_5\nConnecting to syntheapytg.i.tgcloud.io:14240\nWARNING: sun.reflect.Reflection.getCallerClass is not supported. This will impact performance.\nIf there is any relative path, it is relative to <System.AppRoot>/dev/gdk/gsql\nThe vertex type Provider is created.\n\n"
     ]
    }
   ],
   "source": [
    "print(conn.gsql('''\n",
    "    CREATE VERTEX Provider (PRIMARY_ID Id STRING, Name STRING, Gender STRING, Speciality STRING, Utilization INT)\n",
    "''', options=[]))"
   ]
  },
  {
   "cell_type": "code",
   "execution_count": 13,
   "metadata": {
    "tags": []
   },
   "outputs": [
    {
     "output_type": "stream",
     "name": "stdout",
     "text": [
      "========================\nTrying version: v3_0_5\nConnecting to syntheapytg.i.tgcloud.io:14240\nWARNING: sun.reflect.Reflection.getCallerClass is not supported. This will impact performance.\nIf there is any relative path, it is relative to <System.AppRoot>/dev/gdk/gsql\nThe vertex type Condition is created.\n\n"
     ]
    }
   ],
   "source": [
    "print(conn.gsql('''\n",
    "    CREATE VERTEX Condition (PRIMARY_ID Id STRING, Code STRING, Description STRING)\n",
    "''', options=[]))"
   ]
  },
  {
   "cell_type": "code",
   "execution_count": 14,
   "metadata": {
    "tags": []
   },
   "outputs": [
    {
     "output_type": "stream",
     "name": "stdout",
     "text": [
      "========================\nTrying version: v3_0_5\nConnecting to syntheapytg.i.tgcloud.io:14240\nWARNING: sun.reflect.Reflection.getCallerClass is not supported. This will impact performance.\nIf there is any relative path, it is relative to <System.AppRoot>/dev/gdk/gsql\nThe vertex type Medication is created.\n\n"
     ]
    }
   ],
   "source": [
    "print(conn.gsql('''\n",
    "    CREATE VERTEX Medication(PRIMARY_ID Id STRING, Code STRING, Description STRING, Cost DOUBLE, Dispense INT, TotalCost DOUBLE, ReasonCode STRING, ReasonDescription STRING)\n",
    "''', options=[]))"
   ]
  },
  {
   "cell_type": "code",
   "execution_count": 15,
   "metadata": {
    "tags": []
   },
   "outputs": [
    {
     "output_type": "stream",
     "name": "stdout",
     "text": [
      "========================\nTrying version: v3_0_5\nConnecting to syntheapytg.i.tgcloud.io:14240\nWARNING: sun.reflect.Reflection.getCallerClass is not supported. This will impact performance.\nIf there is any relative path, it is relative to <System.AppRoot>/dev/gdk/gsql\nThe vertex type PatientProcedure is created.\n\n"
     ]
    }
   ],
   "source": [
    "print(conn.gsql('''\n",
    "    CREATE VERTEX PatientProcedure(PRIMARY_ID Id STRING, Code STRING, Description STRING, Cost DOUBLE, ReasonCode STRING, ReasonDescription STRING)\n",
    "''', options=[]))"
   ]
  },
  {
   "cell_type": "code",
   "execution_count": 16,
   "metadata": {
    "tags": []
   },
   "outputs": [
    {
     "output_type": "stream",
     "name": "stdout",
     "text": [
      "========================\nTrying version: v3_0_5\nConnecting to syntheapytg.i.tgcloud.io:14240\nWARNING: sun.reflect.Reflection.getCallerClass is not supported. This will impact performance.\nIf there is any relative path, it is relative to <System.AppRoot>/dev/gdk/gsql\nThe vertex type Visit is created.\n\n"
     ]
    }
   ],
   "source": [
    "print(conn.gsql('''\n",
    "    CREATE VERTEX Visit (PRIMARY_ID Id STRING, Code STRING, Description STRING, Started DATETIME, Stopped DATETIME, Cost DOUBLE) \n",
    "''', options=[]))"
   ]
  },
  {
   "cell_type": "markdown",
   "metadata": {},
   "source": [
    "# Adding Edges\n",
    "Now here comes what makes a graph database special - predetermined relationships between different entities. We are going to add *edges* between are vertices, so that we don't have to perform joins when manipulating the data"
   ]
  },
  {
   "cell_type": "code",
   "execution_count": 17,
   "metadata": {
    "tags": []
   },
   "outputs": [
    {
     "output_type": "stream",
     "name": "stdout",
     "text": [
      "========================\n",
      "Trying version: v3_0_5\n",
      "Connecting to syntheapytg.i.tgcloud.io:14240\n",
      "WARNING: sun.reflect.Reflection.getCallerClass is not supported. This will impact performance.\n",
      "If there is any relative path, it is relative to <System.AppRoot>/dev/gdk/gsql\n",
      "The edge type patientVisit is created.\n",
      "The reverse edge type patientSeen is created.\n",
      "\n",
      "========================\n",
      "Trying version: v3_0_5\n",
      "Connecting to syntheapytg.i.tgcloud.io:14240\n",
      "WARNING: sun.reflect.Reflection.getCallerClass is not supported. This will impact performance.\n",
      "If there is any relative path, it is relative to <System.AppRoot>/dev/gdk/gsql\n",
      "The edge type providerVisit is created.\n",
      "The reverse edge type providerSeen is created.\n",
      "\n",
      "========================\n",
      "Trying version: v3_0_5\n",
      "Connecting to syntheapytg.i.tgcloud.io:14240\n",
      "WARNING: sun.reflect.Reflection.getCallerClass is not supported. This will impact performance.\n",
      "If there is any relative path, it is relative to <System.AppRoot>/dev/gdk/gsql\n",
      "The edge type patientSeesProvider is created.\n",
      "The reverse edge type providerSeesPatient is created.\n",
      "\n"
     ]
    }
   ],
   "source": [
    "# Create Edge Between Patients and Visits, Providers and Visits, and Patients and Providers\n",
    "\n",
    "print(conn.gsql('''\n",
    "    CREATE DIRECTED EDGE patientVisit (FROM Patient, TO Visit) WITH REVERSE_EDGE = \"patientSeen\"\n",
    "''', options=[]))\n",
    "\n",
    "print(conn.gsql('''\n",
    "    CREATE DIRECTED EDGE providerVisit (FROM Provider, TO Visit) WITH REVERSE_EDGE = \"providerSeen\"\n",
    "''', options=[]))\n",
    "\n",
    "print(conn.gsql('''\n",
    "    CREATE DIRECTED EDGE patientSeesProvider (FROM Patient, TO Provider) WITH REVERSE_EDGE = \"providerSeesPatient\"\n",
    "''', options=[]))"
   ]
  },
  {
   "cell_type": "code",
   "execution_count": 18,
   "metadata": {
    "tags": []
   },
   "outputs": [
    {
     "output_type": "stream",
     "name": "stdout",
     "text": [
      "========================\nTrying version: v3_0_5\nConnecting to syntheapytg.i.tgcloud.io:14240\nWARNING: sun.reflect.Reflection.getCallerClass is not supported. This will impact performance.\nIf there is any relative path, it is relative to <System.AppRoot>/dev/gdk/gsql\nThe edge type hasMedication is created.\nThe reverse edge type patientMedication is created.\n\n"
     ]
    }
   ],
   "source": [
    "# Create edge between Patients and Medications\n",
    "\n",
    "print(conn.gsql('''\n",
    "    CREATE DIRECTED EDGE hasMedication (FROM Patient, TO Medication, Started DATETIME, Stopped DATETIME DEFAULT \"2999-12-31 00:00:00\") WITH REVERSE_EDGE = \"patientMedication\"\n",
    "''', options=[]))"
   ]
  },
  {
   "cell_type": "code",
   "execution_count": 19,
   "metadata": {
    "tags": []
   },
   "outputs": [
    {
     "output_type": "stream",
     "name": "stdout",
     "text": [
      "========================\nTrying version: v3_0_5\nConnecting to syntheapytg.i.tgcloud.io:14240\nWARNING: sun.reflect.Reflection.getCallerClass is not supported. This will impact performance.\nIf there is any relative path, it is relative to <System.AppRoot>/dev/gdk/gsql\nThe edge type hasCondition is created.\nThe reverse edge type patientCondition is created.\n\n"
     ]
    }
   ],
   "source": [
    "# Create edge between Patients and Conditions\n",
    "\n",
    "print(conn.gsql('''\n",
    "    CREATE DIRECTED EDGE hasCondition (FROM Patient, TO Condition, Started DATETIME, Stopped DATETIME DEFAULT \"2999-12-31 00:00:00\") WITH REVERSE_EDGE = \"patientCondition\"\n",
    "''', options=[]))"
   ]
  },
  {
   "cell_type": "code",
   "execution_count": 20,
   "metadata": {
    "tags": []
   },
   "outputs": [
    {
     "output_type": "stream",
     "name": "stdout",
     "text": [
      "========================\n",
      "Trying version: v3_0_5\n",
      "Connecting to syntheapytg.i.tgcloud.io:14240\n",
      "WARNING: sun.reflect.Reflection.getCallerClass is not supported. This will impact performance.\n",
      "If there is any relative path, it is relative to <System.AppRoot>/dev/gdk/gsql\n",
      "The edge type hasProcedure is created.\n",
      "The reverse edge type patientProcedure is created.\n",
      "\n",
      "========================\n",
      "Trying version: v3_0_5\n",
      "Connecting to syntheapytg.i.tgcloud.io:14240\n",
      "WARNING: sun.reflect.Reflection.getCallerClass is not supported. This will impact performance.\n",
      "If there is any relative path, it is relative to <System.AppRoot>/dev/gdk/gsql\n",
      "The edge type procedureDuringVisit is created.\n",
      "The reverse edge type visitForProcedure is created.\n",
      "\n"
     ]
    }
   ],
   "source": [
    "# Create edge between Patients and Procedures as well as Visits and Procedure\n",
    "\n",
    "print(conn.gsql('''\n",
    "    CREATE DIRECTED EDGE hasProcedure (FROM Patient, TO PatientProcedure, Performed DATETIME) WITH REVERSE_EDGE = \"patientProcedure\"\n",
    "''', options=[]))\n",
    "\n",
    "print(conn.gsql('''\n",
    "    CREATE DIRECTED EDGE procedureDuringVisit (FROM PatientProcedure, TO Visit, Performed DATETIME) WITH REVERSE_EDGE = \"visitForProcedure\"\n",
    "''', options=[]))"
   ]
  },
  {
   "cell_type": "markdown",
   "metadata": {},
   "source": [
    "# Tying it all together\n",
    "After this, visit [here](http://localhost:14240/#/schema-designer) to see the completed schema"
   ]
  },
  {
   "cell_type": "code",
   "execution_count": 21,
   "metadata": {
    "tags": []
   },
   "outputs": [
    {
     "output_type": "stream",
     "name": "stdout",
     "text": [
      "========================\nTrying version: v3_0_5\nConnecting to syntheapytg.i.tgcloud.io:14240\nWARNING: sun.reflect.Reflection.getCallerClass is not supported. This will impact performance.\nIf there is any relative path, it is relative to <System.AppRoot>/dev/gdk/gsql\n---- Global vertices, edges, and all graphs\nVertex Types: \n  - VERTEX Patient(PRIMARY_ID Id STRING, FirstName STRING, LastName STRING, Prefix STRING, Suffix STRING, MaidenName STRING, MaritalStatus STRING, Gender STRING, Race STRING, Ethnicity STRING, DateOfBirth DATETIME, DateOfDeath DATETIME DEFAULT \"32503593600\", SSN STRING, DL STRING, Passport STRING) WITH STATS=\"OUTDEGREE_BY_EDGETYPE\"\n  - VERTEX Provider(PRIMARY_ID Id STRING, Name STRING, Gender STRING, Speciality STRING, Utilization INT) WITH STATS=\"OUTDEGREE_BY_EDGETYPE\"\n  - VERTEX Condition(PRIMARY_ID Id STRING, Code STRING, Description STRING) WITH STATS=\"OUTDEGREE_BY_EDGETYPE\"\n  - VERTEX Medication(PRIMARY_ID Id STRING, Code STRING, Description STRING, Cost DOUBLE, Dispense INT, TotalCost DOUBLE, ReasonCode STRING, ReasonDescription STRING) WITH STATS=\"OUTDEGREE_BY_EDGETYPE\"\n  - VERTEX PatientProcedure(PRIMARY_ID Id STRING, Code STRING, Description STRING, Cost DOUBLE, ReasonCode STRING, ReasonDescription STRING) WITH STATS=\"OUTDEGREE_BY_EDGETYPE\"\n  - VERTEX Visit(PRIMARY_ID Id STRING, Code STRING, Description STRING, Started DATETIME, Stopped DATETIME, Cost DOUBLE) WITH STATS=\"OUTDEGREE_BY_EDGETYPE\"\nEdge Types: \n  - DIRECTED EDGE patientVisit(FROM Patient, TO Visit) WITH REVERSE_EDGE=\"patientSeen\"\n  - DIRECTED EDGE patientSeen(FROM Visit, TO Patient) WITH REVERSE_EDGE=\"patientVisit\"\n  - DIRECTED EDGE providerVisit(FROM Provider, TO Visit) WITH REVERSE_EDGE=\"providerSeen\"\n  - DIRECTED EDGE providerSeen(FROM Visit, TO Provider) WITH REVERSE_EDGE=\"providerVisit\"\n  - DIRECTED EDGE patientSeesProvider(FROM Patient, TO Provider) WITH REVERSE_EDGE=\"providerSeesPatient\"\n  - DIRECTED EDGE providerSeesPatient(FROM Provider, TO Patient) WITH REVERSE_EDGE=\"patientSeesProvider\"\n  - DIRECTED EDGE hasMedication(FROM Patient, TO Medication, Started DATETIME, Stopped DATETIME DEFAULT \"32503593600\") WITH REVERSE_EDGE=\"patientMedication\"\n  - DIRECTED EDGE patientMedication(FROM Medication, TO Patient, Started DATETIME, Stopped DATETIME DEFAULT \"32503593600\") WITH REVERSE_EDGE=\"hasMedication\"\n  - DIRECTED EDGE hasCondition(FROM Patient, TO Condition, Started DATETIME, Stopped DATETIME DEFAULT \"32503593600\") WITH REVERSE_EDGE=\"patientCondition\"\n  - DIRECTED EDGE patientCondition(FROM Condition, TO Patient, Started DATETIME, Stopped DATETIME DEFAULT \"32503593600\") WITH REVERSE_EDGE=\"hasCondition\"\n  - DIRECTED EDGE hasProcedure(FROM Patient, TO PatientProcedure, Performed DATETIME) WITH REVERSE_EDGE=\"patientProcedure\"\n  - DIRECTED EDGE patientProcedure(FROM PatientProcedure, TO Patient, Performed DATETIME) WITH REVERSE_EDGE=\"hasProcedure\"\n  - DIRECTED EDGE procedureDuringVisit(FROM PatientProcedure, TO Visit, Performed DATETIME) WITH REVERSE_EDGE=\"visitForProcedure\"\n  - DIRECTED EDGE visitForProcedure(FROM Visit, TO PatientProcedure, Performed DATETIME) WITH REVERSE_EDGE=\"procedureDuringVisit\"\n\nGraphs: \nJobs: \n\n\nJSON API version: v2\nSyntax version: v1\n\n\n"
     ]
    }
   ],
   "source": [
    "print(conn.gsql(\"ls\", options=[]))"
   ]
  },
  {
   "cell_type": "code",
   "execution_count": 22,
   "metadata": {
    "tags": []
   },
   "outputs": [
    {
     "output_type": "stream",
     "name": "stdout",
     "text": [
      "========================\nTrying version: v3_0_5\nConnecting to syntheapytg.i.tgcloud.io:14240\nWARNING: sun.reflect.Reflection.getCallerClass is not supported. This will impact performance.\nIf there is any relative path, it is relative to <System.AppRoot>/dev/gdk/gsql\nStopping GPE GSE RESTPP\nSuccessfully stopped GPE GSE RESTPP in 0.006 seconds\nStarting GPE GSE RESTPP\nSuccessfully started GPE GSE RESTPP in 0.099 seconds\nThe graph Synthea is created.\n\n"
     ]
    }
   ],
   "source": [
    "print(conn.gsql('''\n",
    "    CREATE GRAPH Synthea(Patient, Provider, Condition, Medication, PatientProcedure, Visit, patientVisit, patientSeen, providerVisit, providerSeen, patientSeesProvider, providerSeesPatient, hasMedication, patientMedication, hasCondition, patientCondition, hasProcedure, patientProcedure, procedureDuringVisit, visitForProcedure)\n",
    "''', options=[]))"
   ]
  },
  {
   "cell_type": "markdown",
   "metadata": {},
   "source": [
    "# Loading Data\n",
    "We could define loading jobs, but the easiest way is to use pyTigerGraph's loading functions."
   ]
  },
  {
   "cell_type": "code",
   "execution_count": 43,
   "metadata": {},
   "outputs": [],
   "source": [
    "# First, need to set graph name in connection\n",
    "\n",
    "conn.graphname = \"Synthea\"\n",
    "if cloud:\n",
    "    conn.apiToken = conn.getToken(conn.createSecret())"
   ]
  },
  {
   "cell_type": "code",
   "execution_count": 44,
   "metadata": {},
   "outputs": [
    {
     "output_type": "execute_result",
     "data": {
      "text/plain": [
       "                                     id   birthDate            deathDate  \\\n",
       "0  35e0c202-7d79-40cb-84f1-1b69e6f6be3c  1985-12-17  2999-12-31 00:00:00   \n",
       "1  ffd2b713-518b-4660-b112-e1ee298ac8d1  1990-10-20  2999-12-31 00:00:00   \n",
       "2  5311bb0b-a96c-4bab-8713-bc9405c420ee  1983-05-03  2999-12-31 00:00:00   \n",
       "3  81b0149c-1b72-4e63-9ee4-62e4856fdd5c  1953-07-16  2999-12-31 00:00:00   \n",
       "4  d1f14152-8766-40cc-a53b-9e78aba41bc0  2002-08-02  2999-12-31 00:00:00   \n",
       "\n",
       "           ssn    drivers    passport prefix       first           last  \\\n",
       "0  999-59-3229  S99985207  X13132187X    Mr.  Ignacio928  Candelaria844   \n",
       "1  999-77-6505  S99942717  X36715867X    Mr.    Robbie31     Parisian75   \n",
       "2  999-50-9809  S99995282  X64495409X    Mr.   Sergio619        Dicki44   \n",
       "3  999-12-3651  S99948962  X57816876X    Ms.   Cindie288       Hyatt152   \n",
       "4  999-45-4207  S99955456                        Hsiu839  Rutherford999   \n",
       "\n",
       "  suffix maiden marital   race    ethnicity gender  \\\n",
       "0                     M  black    dominican      M   \n",
       "1                     M  black  west_indian      M   \n",
       "2                     M  white      english      M   \n",
       "3                     S  white       french      F   \n",
       "4                        white       french      F   \n",
       "\n",
       "                          birthPlace                       address       city  \\\n",
       "0  Portsmouth  Saint John Parish  DM  940 Cummerata Pathway Apt 23  Worcester   \n",
       "1        Cheshire  Massachusetts  US           698 Cummerata Rapid     Boston   \n",
       "2          Malden  Massachusetts  US          761 Lubowitz Terrace     Malden   \n",
       "3         Waltham  Massachusetts  US        1066 Weimann Extension  Brookline   \n",
       "4       Worcester  Massachusetts  US  622 Breitenberg Club Unit 79     Lowell   \n",
       "\n",
       "           state   zip  \n",
       "0  Massachusetts  1545  \n",
       "1  Massachusetts  2108  \n",
       "2  Massachusetts  2148  \n",
       "3  Massachusetts  2215  \n",
       "4  Massachusetts  1850  "
      ],
      "text/html": "<div>\n<style scoped>\n    .dataframe tbody tr th:only-of-type {\n        vertical-align: middle;\n    }\n\n    .dataframe tbody tr th {\n        vertical-align: top;\n    }\n\n    .dataframe thead th {\n        text-align: right;\n    }\n</style>\n<table border=\"1\" class=\"dataframe\">\n  <thead>\n    <tr style=\"text-align: right;\">\n      <th></th>\n      <th>id</th>\n      <th>birthDate</th>\n      <th>deathDate</th>\n      <th>ssn</th>\n      <th>drivers</th>\n      <th>passport</th>\n      <th>prefix</th>\n      <th>first</th>\n      <th>last</th>\n      <th>suffix</th>\n      <th>maiden</th>\n      <th>marital</th>\n      <th>race</th>\n      <th>ethnicity</th>\n      <th>gender</th>\n      <th>birthPlace</th>\n      <th>address</th>\n      <th>city</th>\n      <th>state</th>\n      <th>zip</th>\n    </tr>\n  </thead>\n  <tbody>\n    <tr>\n      <th>0</th>\n      <td>35e0c202-7d79-40cb-84f1-1b69e6f6be3c</td>\n      <td>1985-12-17</td>\n      <td>2999-12-31 00:00:00</td>\n      <td>999-59-3229</td>\n      <td>S99985207</td>\n      <td>X13132187X</td>\n      <td>Mr.</td>\n      <td>Ignacio928</td>\n      <td>Candelaria844</td>\n      <td></td>\n      <td></td>\n      <td>M</td>\n      <td>black</td>\n      <td>dominican</td>\n      <td>M</td>\n      <td>Portsmouth  Saint John Parish  DM</td>\n      <td>940 Cummerata Pathway Apt 23</td>\n      <td>Worcester</td>\n      <td>Massachusetts</td>\n      <td>1545</td>\n    </tr>\n    <tr>\n      <th>1</th>\n      <td>ffd2b713-518b-4660-b112-e1ee298ac8d1</td>\n      <td>1990-10-20</td>\n      <td>2999-12-31 00:00:00</td>\n      <td>999-77-6505</td>\n      <td>S99942717</td>\n      <td>X36715867X</td>\n      <td>Mr.</td>\n      <td>Robbie31</td>\n      <td>Parisian75</td>\n      <td></td>\n      <td></td>\n      <td>M</td>\n      <td>black</td>\n      <td>west_indian</td>\n      <td>M</td>\n      <td>Cheshire  Massachusetts  US</td>\n      <td>698 Cummerata Rapid</td>\n      <td>Boston</td>\n      <td>Massachusetts</td>\n      <td>2108</td>\n    </tr>\n    <tr>\n      <th>2</th>\n      <td>5311bb0b-a96c-4bab-8713-bc9405c420ee</td>\n      <td>1983-05-03</td>\n      <td>2999-12-31 00:00:00</td>\n      <td>999-50-9809</td>\n      <td>S99995282</td>\n      <td>X64495409X</td>\n      <td>Mr.</td>\n      <td>Sergio619</td>\n      <td>Dicki44</td>\n      <td></td>\n      <td></td>\n      <td>M</td>\n      <td>white</td>\n      <td>english</td>\n      <td>M</td>\n      <td>Malden  Massachusetts  US</td>\n      <td>761 Lubowitz Terrace</td>\n      <td>Malden</td>\n      <td>Massachusetts</td>\n      <td>2148</td>\n    </tr>\n    <tr>\n      <th>3</th>\n      <td>81b0149c-1b72-4e63-9ee4-62e4856fdd5c</td>\n      <td>1953-07-16</td>\n      <td>2999-12-31 00:00:00</td>\n      <td>999-12-3651</td>\n      <td>S99948962</td>\n      <td>X57816876X</td>\n      <td>Ms.</td>\n      <td>Cindie288</td>\n      <td>Hyatt152</td>\n      <td></td>\n      <td></td>\n      <td>S</td>\n      <td>white</td>\n      <td>french</td>\n      <td>F</td>\n      <td>Waltham  Massachusetts  US</td>\n      <td>1066 Weimann Extension</td>\n      <td>Brookline</td>\n      <td>Massachusetts</td>\n      <td>2215</td>\n    </tr>\n    <tr>\n      <th>4</th>\n      <td>d1f14152-8766-40cc-a53b-9e78aba41bc0</td>\n      <td>2002-08-02</td>\n      <td>2999-12-31 00:00:00</td>\n      <td>999-45-4207</td>\n      <td>S99955456</td>\n      <td></td>\n      <td></td>\n      <td>Hsiu839</td>\n      <td>Rutherford999</td>\n      <td></td>\n      <td></td>\n      <td></td>\n      <td>white</td>\n      <td>french</td>\n      <td>F</td>\n      <td>Worcester  Massachusetts  US</td>\n      <td>622 Breitenberg Club Unit 79</td>\n      <td>Lowell</td>\n      <td>Massachusetts</td>\n      <td>1850</td>\n    </tr>\n  </tbody>\n</table>\n</div>"
     },
     "metadata": {},
     "execution_count": 44
    }
   ],
   "source": [
    "patients.head()"
   ]
  },
  {
   "cell_type": "code",
   "execution_count": 45,
   "metadata": {},
   "outputs": [],
   "source": [
    "'''\n",
    "CREATE VERTEX Patient (PRIMARY_ID Id STRING, FirstName STRING, LastName STRING, Prefix STRING, Suffix STRING, MaidenName STRING, MaritalStatus STRING, Gender STRING, Race STRING, Ethnicity STRING, DateOfBirth DATETIME, DateOfDeath DATETIME DEFAULT \"2999-12-31 00:00:00\", SSN STRING, DL STRING, Passport STRING )\n",
    "'''\n",
    "\n",
    "def upsertPatients(row):\n",
    "    attributes = {\n",
    "        \"FirstName\": row[\"first\"],\n",
    "        \"LastName\": row[\"last\"], \n",
    "        \"Prefix\": row[\"prefix\"],\n",
    "        \"Suffix\": row[\"suffix\"], \n",
    "        \"MaidenName\": row[\"maiden\"],\n",
    "        \"MaritalStatus\": row[\"marital\"],\n",
    "        \"Gender\": row[\"gender\"],\n",
    "        \"Race\": row[\"race\"],\n",
    "        \"Ethnicity\": row[\"ethnicity\"],\n",
    "        \"DateOfBirth\": row[\"birthDate\"],\n",
    "        \"SSN\": row[\"ssn\"],\n",
    "        \"DL\": row[\"drivers\"],\n",
    "        \"Passport\": row[\"passport\"]\n",
    "    }\n",
    "    conn.upsertVertex(\"Patient\", row[\"id\"], attributes)"
   ]
  },
  {
   "cell_type": "code",
   "execution_count": 46,
   "metadata": {},
   "outputs": [],
   "source": [
    "patients[\"deathDate\"].fillna(\"2999-12-31 00:00:00\", inplace=True)\n",
    "patients.fillna(\"\", inplace=True)"
   ]
  },
  {
   "cell_type": "code",
   "execution_count": 47,
   "metadata": {},
   "outputs": [
    {
     "output_type": "stream",
     "name": "stdout",
     "text": [
      "POST https://syntheapytg.i.tgcloud.io:9000/graph/Synthea => {\"vertices\": {\"Patient\": {\"35e0c202-7d79-40cb-84f1-1b69e6f6be3c\": {\"FirstName\": {\"value\": \"Ignacio928\"}, \"LastName\": {\"value\": \"Candelaria844\"}, \"Prefix\": {\"value\": \"Mr.\"}, \"Suffix\": {\"value\": \"\"}, \"MaidenName\": {\"value\": \"\"}, \"MaritalStatus\": {\"value\": \"M\"}, \"Gender\": {\"value\": \"M\"}, \"Race\": {\"value\": \"black\"}, \"Ethnicity\": {\"value\": \"dominican\"}, \"DateOfBirth\": {\"value\": \"1985-12-17\"}, \"SSN\": {\"value\": \"999-59-3229\"}, \"DL\": {\"value\": \"S99985207\"}, \"Passport\": {\"value\": \"X13132187X\"}}}}}\n",
      "https://syntheapytg.i.tgcloud.io:9000/graph/Synthea\n",
      "[{'accepted_vertices': 1, 'accepted_edges': 0}]\n",
      "POST https://syntheapytg.i.tgcloud.io:9000/graph/Synthea => {\"vertices\": {\"Patient\": {\"ffd2b713-518b-4660-b112-e1ee298ac8d1\": {\"FirstName\": {\"value\": \"Robbie31\"}, \"LastName\": {\"value\": \"Parisian75\"}, \"Prefix\": {\"value\": \"Mr.\"}, \"Suffix\": {\"value\": \"\"}, \"MaidenName\": {\"value\": \"\"}, \"MaritalStatus\": {\"value\": \"M\"}, \"Gender\": {\"value\": \"M\"}, \"Race\": {\"value\": \"black\"}, \"Ethnicity\": {\"value\": \"west_indian\"}, \"DateOfBirth\": {\"value\": \"1990-10-20\"}, \"SSN\": {\"value\": \"999-77-6505\"}, \"DL\": {\"value\": \"S99942717\"}, \"Passport\": {\"value\": \"X36715867X\"}}}}}\n",
      "https://syntheapytg.i.tgcloud.io:9000/graph/Synthea\n",
      "[{'accepted_vertices': 1, 'accepted_edges': 0}]\n",
      "POST https://syntheapytg.i.tgcloud.io:9000/graph/Synthea => {\"vertices\": {\"Patient\": {\"5311bb0b-a96c-4bab-8713-bc9405c420ee\": {\"FirstName\": {\"value\": \"Sergio619\"}, \"LastName\": {\"value\": \"Dicki44\"}, \"Prefix\": {\"value\": \"Mr.\"}, \"Suffix\": {\"value\": \"\"}, \"MaidenName\": {\"value\": \"\"}, \"MaritalStatus\": {\"value\": \"M\"}, \"Gender\": {\"value\": \"M\"}, \"Race\": {\"value\": \"white\"}, \"Ethnicity\": {\"value\": \"english\"}, \"DateOfBirth\": {\"value\": \"1983-05-03\"}, \"SSN\": {\"value\": \"999-50-9809\"}, \"DL\": {\"value\": \"S99995282\"}, \"Passport\": {\"value\": \"X64495409X\"}}}}}\n",
      "https://syntheapytg.i.tgcloud.io:9000/graph/Synthea\n",
      "[{'accepted_vertices': 1, 'accepted_edges': 0}]\n",
      "POST https://syntheapytg.i.tgcloud.io:9000/graph/Synthea => {\"vertices\": {\"Patient\": {\"81b0149c-1b72-4e63-9ee4-62e4856fdd5c\": {\"FirstName\": {\"value\": \"Cindie288\"}, \"LastName\": {\"value\": \"Hyatt152\"}, \"Prefix\": {\"value\": \"Ms.\"}, \"Suffix\": {\"value\": \"\"}, \"MaidenName\": {\"value\": \"\"}, \"MaritalStatus\": {\"value\": \"S\"}, \"Gender\": {\"value\": \"F\"}, \"Race\": {\"value\": \"white\"}, \"Ethnicity\": {\"value\": \"french\"}, \"DateOfBirth\": {\"value\": \"1953-07-16\"}, \"SSN\": {\"value\": \"999-12-3651\"}, \"DL\": {\"value\": \"S99948962\"}, \"Passport\": {\"value\": \"X57816876X\"}}}}}\n",
      "https://syntheapytg.i.tgcloud.io:9000/graph/Synthea\n",
      "[{'accepted_vertices': 1, 'accepted_edges': 0}]\n",
      "POST https://syntheapytg.i.tgcloud.io:9000/graph/Synthea => {\"vertices\": {\"Patient\": {\"d1f14152-8766-40cc-a53b-9e78aba41bc0\": {\"FirstName\": {\"value\": \"Hsiu839\"}, \"LastName\": {\"value\": \"Rutherford999\"}, \"Prefix\": {\"value\": \"\"}, \"Suffix\": {\"value\": \"\"}, \"MaidenName\": {\"value\": \"\"}, \"MaritalStatus\": {\"value\": \"\"}, \"Gender\": {\"value\": \"F\"}, \"Race\": {\"value\": \"white\"}, \"Ethnicity\": {\"value\": \"french\"}, \"DateOfBirth\": {\"value\": \"2002-08-02\"}, \"SSN\": {\"value\": \"999-45-4207\"}, \"DL\": {\"value\": \"S99955456\"}, \"Passport\": {\"value\": \"\"}}}}}\n",
      "https://syntheapytg.i.tgcloud.io:9000/graph/Synthea\n",
      "[{'accepted_vertices': 1, 'accepted_edges': 0}]\n",
      "POST https://syntheapytg.i.tgcloud.io:9000/graph/Synthea => {\"vertices\": {\"Patient\": {\"429bcf5e-ec41-4fda-a827-fb3816af2aab\": {\"FirstName\": {\"value\": \"Lee268\"}, \"LastName\": {\"value\": \"Romaguera67\"}, \"Prefix\": {\"value\": \"\"}, \"Suffix\": {\"value\": \"\"}, \"MaidenName\": {\"value\": \"\"}, \"MaritalStatus\": {\"value\": \"\"}, \"Gender\": {\"value\": \"M\"}, \"Race\": {\"value\": \"asian\"}, \"Ethnicity\": {\"value\": \"chinese\"}, \"DateOfBirth\": {\"value\": \"2010-06-27\"}, \"SSN\": {\"value\": \"999-90-5352\"}, \"DL\": {\"value\": \"\"}, \"Passport\": {\"value\": \"\"}}}}}\n",
      "https://syntheapytg.i.tgcloud.io:9000/graph/Synthea\n",
      "[{'accepted_vertices': 1, 'accepted_edges': 0}]\n",
      "POST https://syntheapytg.i.tgcloud.io:9000/graph/Synthea => {\"vertices\": {\"Patient\": {\"22695091-3545-4eb8-ad62-d73052abeccf\": {\"FirstName\": {\"value\": \"Russell422\"}, \"LastName\": {\"value\": \"McDermott739\"}, \"Prefix\": {\"value\": \"Mrs.\"}, \"Suffix\": {\"value\": \"\"}, \"MaidenName\": {\"value\": \"Heller342\"}, \"MaritalStatus\": {\"value\": \"M\"}, \"Gender\": {\"value\": \"F\"}, \"Race\": {\"value\": \"white\"}, \"Ethnicity\": {\"value\": \"irish\"}, \"DateOfBirth\": {\"value\": \"1954-08-29\"}, \"SSN\": {\"value\": \"999-92-6967\"}, \"DL\": {\"value\": \"S99956518\"}, \"Passport\": {\"value\": \"X5860367X\"}}}}}\n",
      "https://syntheapytg.i.tgcloud.io:9000/graph/Synthea\n",
      "[{'accepted_vertices': 1, 'accepted_edges': 0}]\n",
      "POST https://syntheapytg.i.tgcloud.io:9000/graph/Synthea => {\"vertices\": {\"Patient\": {\"3508df6f-ed81-4d4a-8c4e-55494674bb49\": {\"FirstName\": {\"value\": \"Sterling124\"}, \"LastName\": {\"value\": \"Cole117\"}, \"Prefix\": {\"value\": \"Mr.\"}, \"Suffix\": {\"value\": \"\"}, \"MaidenName\": {\"value\": \"\"}, \"MaritalStatus\": {\"value\": \"M\"}, \"Gender\": {\"value\": \"M\"}, \"Race\": {\"value\": \"white\"}, \"Ethnicity\": {\"value\": \"german\"}, \"DateOfBirth\": {\"value\": \"1947-01-04\"}, \"SSN\": {\"value\": \"999-52-5654\"}, \"DL\": {\"value\": \"S99989510\"}, \"Passport\": {\"value\": \"X35344088X\"}}}}}\n",
      "https://syntheapytg.i.tgcloud.io:9000/graph/Synthea\n",
      "[{'accepted_vertices': 1, 'accepted_edges': 0}]\n",
      "POST https://syntheapytg.i.tgcloud.io:9000/graph/Synthea => {\"vertices\": {\"Patient\": {\"82ff26a2-470b-4b2e-8725-224a6300f5d6\": {\"FirstName\": {\"value\": \"Jame231\"}, \"LastName\": {\"value\": \"Dickens475\"}, \"Prefix\": {\"value\": \"\"}, \"Suffix\": {\"value\": \"\"}, \"MaidenName\": {\"value\": \"\"}, \"MaritalStatus\": {\"value\": \"\"}, \"Gender\": {\"value\": \"F\"}, \"Race\": {\"value\": \"white\"}, \"Ethnicity\": {\"value\": \"irish\"}, \"DateOfBirth\": {\"value\": \"2003-01-19\"}, \"SSN\": {\"value\": \"999-79-3599\"}, \"DL\": {\"value\": \"S99995619\"}, \"Passport\": {\"value\": \"\"}}}}}\n",
      "https://syntheapytg.i.tgcloud.io:9000/graph/Synthea\n",
      "[{'accepted_vertices': 1, 'accepted_edges': 0}]\n",
      "POST https://syntheapytg.i.tgcloud.io:9000/graph/Synthea => {\"vertices\": {\"Patient\": {\"254de4e1-c143-42fb-b0c0-30ef7e58c806\": {\"FirstName\": {\"value\": \"Toya963\"}, \"LastName\": {\"value\": \"Rowe323\"}, \"Prefix\": {\"value\": \"\"}, \"Suffix\": {\"value\": \"\"}, \"MaidenName\": {\"value\": \"\"}, \"MaritalStatus\": {\"value\": \"\"}, \"Gender\": {\"value\": \"F\"}, \"Race\": {\"value\": \"white\"}, \"Ethnicity\": {\"value\": \"italian\"}, \"DateOfBirth\": {\"value\": \"2014-05-03\"}, \"SSN\": {\"value\": \"999-97-4924\"}, \"DL\": {\"value\": \"\"}, \"Passport\": {\"value\": \"\"}}}}}\n",
      "https://syntheapytg.i.tgcloud.io:9000/graph/Synthea\n",
      "[{'accepted_vertices': 1, 'accepted_edges': 0}]\n",
      "POST https://syntheapytg.i.tgcloud.io:9000/graph/Synthea => {\"vertices\": {\"Patient\": {\"fd30a806-4c55-4a05-bcb1-84886f00a8f7\": {\"FirstName\": {\"value\": \"Mervin111\"}, \"LastName\": {\"value\": \"Robel940\"}, \"Prefix\": {\"value\": \"Mr.\"}, \"Suffix\": {\"value\": \"\"}, \"MaidenName\": {\"value\": \"\"}, \"MaritalStatus\": {\"value\": \"\"}, \"Gender\": {\"value\": \"M\"}, \"Race\": {\"value\": \"white\"}, \"Ethnicity\": {\"value\": \"italian\"}, \"DateOfBirth\": {\"value\": \"1997-01-12\"}, \"SSN\": {\"value\": \"999-15-6737\"}, \"DL\": {\"value\": \"S99926194\"}, \"Passport\": {\"value\": \"X63164656X\"}}}}}\n"
     ]
    },
    {
     "output_type": "error",
     "ename": "KeyboardInterrupt",
     "evalue": "",
     "traceback": [
      "\u001b[0;31m---------------------------------------------------------------------------\u001b[0m",
      "\u001b[0;31mKeyboardInterrupt\u001b[0m                         Traceback (most recent call last)",
      "\u001b[0;32m<ipython-input-47-2bd875db9078>\u001b[0m in \u001b[0;36m<module>\u001b[0;34m\u001b[0m\n\u001b[0;32m----> 1\u001b[0;31m \u001b[0mpatients\u001b[0m\u001b[0;34m.\u001b[0m\u001b[0mapply\u001b[0m\u001b[0;34m(\u001b[0m\u001b[0;32mlambda\u001b[0m \u001b[0mrow\u001b[0m\u001b[0;34m:\u001b[0m \u001b[0mupsertPatients\u001b[0m\u001b[0;34m(\u001b[0m\u001b[0mrow\u001b[0m\u001b[0;34m)\u001b[0m\u001b[0;34m,\u001b[0m \u001b[0maxis\u001b[0m\u001b[0;34m=\u001b[0m\u001b[0;36m1\u001b[0m\u001b[0;34m)\u001b[0m\u001b[0;34m\u001b[0m\u001b[0;34m\u001b[0m\u001b[0m\n\u001b[0m",
      "\u001b[0;32m~/.local/lib/python3.6/site-packages/pandas/core/frame.py\u001b[0m in \u001b[0;36mapply\u001b[0;34m(self, func, axis, raw, result_type, args, **kwds)\u001b[0m\n\u001b[1;32m   7543\u001b[0m             \u001b[0mkwds\u001b[0m\u001b[0;34m=\u001b[0m\u001b[0mkwds\u001b[0m\u001b[0;34m,\u001b[0m\u001b[0;34m\u001b[0m\u001b[0;34m\u001b[0m\u001b[0m\n\u001b[1;32m   7544\u001b[0m         )\n\u001b[0;32m-> 7545\u001b[0;31m         \u001b[0;32mreturn\u001b[0m \u001b[0mop\u001b[0m\u001b[0;34m.\u001b[0m\u001b[0mget_result\u001b[0m\u001b[0;34m(\u001b[0m\u001b[0;34m)\u001b[0m\u001b[0;34m\u001b[0m\u001b[0;34m\u001b[0m\u001b[0m\n\u001b[0m\u001b[1;32m   7546\u001b[0m \u001b[0;34m\u001b[0m\u001b[0m\n\u001b[1;32m   7547\u001b[0m     \u001b[0;32mdef\u001b[0m \u001b[0mapplymap\u001b[0m\u001b[0;34m(\u001b[0m\u001b[0mself\u001b[0m\u001b[0;34m,\u001b[0m \u001b[0mfunc\u001b[0m\u001b[0;34m)\u001b[0m \u001b[0;34m->\u001b[0m \u001b[0;34m\"DataFrame\"\u001b[0m\u001b[0;34m:\u001b[0m\u001b[0;34m\u001b[0m\u001b[0;34m\u001b[0m\u001b[0m\n",
      "\u001b[0;32m~/.local/lib/python3.6/site-packages/pandas/core/apply.py\u001b[0m in \u001b[0;36mget_result\u001b[0;34m(self)\u001b[0m\n\u001b[1;32m    178\u001b[0m             \u001b[0;32mreturn\u001b[0m \u001b[0mself\u001b[0m\u001b[0;34m.\u001b[0m\u001b[0mapply_raw\u001b[0m\u001b[0;34m(\u001b[0m\u001b[0;34m)\u001b[0m\u001b[0;34m\u001b[0m\u001b[0;34m\u001b[0m\u001b[0m\n\u001b[1;32m    179\u001b[0m \u001b[0;34m\u001b[0m\u001b[0m\n\u001b[0;32m--> 180\u001b[0;31m         \u001b[0;32mreturn\u001b[0m \u001b[0mself\u001b[0m\u001b[0;34m.\u001b[0m\u001b[0mapply_standard\u001b[0m\u001b[0;34m(\u001b[0m\u001b[0;34m)\u001b[0m\u001b[0;34m\u001b[0m\u001b[0;34m\u001b[0m\u001b[0m\n\u001b[0m\u001b[1;32m    181\u001b[0m \u001b[0;34m\u001b[0m\u001b[0m\n\u001b[1;32m    182\u001b[0m     \u001b[0;32mdef\u001b[0m \u001b[0mapply_empty_result\u001b[0m\u001b[0;34m(\u001b[0m\u001b[0mself\u001b[0m\u001b[0;34m)\u001b[0m\u001b[0;34m:\u001b[0m\u001b[0;34m\u001b[0m\u001b[0;34m\u001b[0m\u001b[0m\n",
      "\u001b[0;32m~/.local/lib/python3.6/site-packages/pandas/core/apply.py\u001b[0m in \u001b[0;36mapply_standard\u001b[0;34m(self)\u001b[0m\n\u001b[1;32m    253\u001b[0m \u001b[0;34m\u001b[0m\u001b[0m\n\u001b[1;32m    254\u001b[0m     \u001b[0;32mdef\u001b[0m \u001b[0mapply_standard\u001b[0m\u001b[0;34m(\u001b[0m\u001b[0mself\u001b[0m\u001b[0;34m)\u001b[0m\u001b[0;34m:\u001b[0m\u001b[0;34m\u001b[0m\u001b[0;34m\u001b[0m\u001b[0m\n\u001b[0;32m--> 255\u001b[0;31m         \u001b[0mresults\u001b[0m\u001b[0;34m,\u001b[0m \u001b[0mres_index\u001b[0m \u001b[0;34m=\u001b[0m \u001b[0mself\u001b[0m\u001b[0;34m.\u001b[0m\u001b[0mapply_series_generator\u001b[0m\u001b[0;34m(\u001b[0m\u001b[0;34m)\u001b[0m\u001b[0;34m\u001b[0m\u001b[0;34m\u001b[0m\u001b[0m\n\u001b[0m\u001b[1;32m    256\u001b[0m \u001b[0;34m\u001b[0m\u001b[0m\n\u001b[1;32m    257\u001b[0m         \u001b[0;31m# wrap results\u001b[0m\u001b[0;34m\u001b[0m\u001b[0;34m\u001b[0m\u001b[0;34m\u001b[0m\u001b[0m\n",
      "\u001b[0;32m~/.local/lib/python3.6/site-packages/pandas/core/apply.py\u001b[0m in \u001b[0;36mapply_series_generator\u001b[0;34m(self)\u001b[0m\n\u001b[1;32m    282\u001b[0m                 \u001b[0;32mfor\u001b[0m \u001b[0mi\u001b[0m\u001b[0;34m,\u001b[0m \u001b[0mv\u001b[0m \u001b[0;32min\u001b[0m \u001b[0menumerate\u001b[0m\u001b[0;34m(\u001b[0m\u001b[0mseries_gen\u001b[0m\u001b[0;34m)\u001b[0m\u001b[0;34m:\u001b[0m\u001b[0;34m\u001b[0m\u001b[0;34m\u001b[0m\u001b[0m\n\u001b[1;32m    283\u001b[0m                     \u001b[0;31m# ignore SettingWithCopy here in case the user mutates\u001b[0m\u001b[0;34m\u001b[0m\u001b[0;34m\u001b[0m\u001b[0;34m\u001b[0m\u001b[0m\n\u001b[0;32m--> 284\u001b[0;31m                     \u001b[0mresults\u001b[0m\u001b[0;34m[\u001b[0m\u001b[0mi\u001b[0m\u001b[0;34m]\u001b[0m \u001b[0;34m=\u001b[0m \u001b[0mself\u001b[0m\u001b[0;34m.\u001b[0m\u001b[0mf\u001b[0m\u001b[0;34m(\u001b[0m\u001b[0mv\u001b[0m\u001b[0;34m)\u001b[0m\u001b[0;34m\u001b[0m\u001b[0;34m\u001b[0m\u001b[0m\n\u001b[0m\u001b[1;32m    285\u001b[0m                     \u001b[0;32mif\u001b[0m \u001b[0misinstance\u001b[0m\u001b[0;34m(\u001b[0m\u001b[0mresults\u001b[0m\u001b[0;34m[\u001b[0m\u001b[0mi\u001b[0m\u001b[0;34m]\u001b[0m\u001b[0;34m,\u001b[0m \u001b[0mABCSeries\u001b[0m\u001b[0;34m)\u001b[0m\u001b[0;34m:\u001b[0m\u001b[0;34m\u001b[0m\u001b[0;34m\u001b[0m\u001b[0m\n\u001b[1;32m    286\u001b[0m                         \u001b[0;31m# If we have a view on v, we need to make a copy because\u001b[0m\u001b[0;34m\u001b[0m\u001b[0;34m\u001b[0m\u001b[0;34m\u001b[0m\u001b[0m\n",
      "\u001b[0;32m<ipython-input-47-2bd875db9078>\u001b[0m in \u001b[0;36m<lambda>\u001b[0;34m(row)\u001b[0m\n\u001b[0;32m----> 1\u001b[0;31m \u001b[0mpatients\u001b[0m\u001b[0;34m.\u001b[0m\u001b[0mapply\u001b[0m\u001b[0;34m(\u001b[0m\u001b[0;32mlambda\u001b[0m \u001b[0mrow\u001b[0m\u001b[0;34m:\u001b[0m \u001b[0mupsertPatients\u001b[0m\u001b[0;34m(\u001b[0m\u001b[0mrow\u001b[0m\u001b[0;34m)\u001b[0m\u001b[0;34m,\u001b[0m \u001b[0maxis\u001b[0m\u001b[0;34m=\u001b[0m\u001b[0;36m1\u001b[0m\u001b[0;34m)\u001b[0m\u001b[0;34m\u001b[0m\u001b[0;34m\u001b[0m\u001b[0m\n\u001b[0m",
      "\u001b[0;32m<ipython-input-45-b2869ee9b47b>\u001b[0m in \u001b[0;36mupsertPatients\u001b[0;34m(row)\u001b[0m\n\u001b[1;32m     19\u001b[0m         \u001b[0;34m\"Passport\"\u001b[0m\u001b[0;34m:\u001b[0m \u001b[0mrow\u001b[0m\u001b[0;34m[\u001b[0m\u001b[0;34m\"passport\"\u001b[0m\u001b[0;34m]\u001b[0m\u001b[0;34m\u001b[0m\u001b[0;34m\u001b[0m\u001b[0m\n\u001b[1;32m     20\u001b[0m     }\n\u001b[0;32m---> 21\u001b[0;31m     \u001b[0mconn\u001b[0m\u001b[0;34m.\u001b[0m\u001b[0mupsertVertex\u001b[0m\u001b[0;34m(\u001b[0m\u001b[0;34m\"Patient\"\u001b[0m\u001b[0;34m,\u001b[0m \u001b[0mrow\u001b[0m\u001b[0;34m[\u001b[0m\u001b[0;34m\"id\"\u001b[0m\u001b[0;34m]\u001b[0m\u001b[0;34m,\u001b[0m \u001b[0mattributes\u001b[0m\u001b[0;34m)\u001b[0m\u001b[0;34m\u001b[0m\u001b[0;34m\u001b[0m\u001b[0m\n\u001b[0m",
      "\u001b[0;32m~/.local/lib/python3.6/site-packages/pyTigerGraph/pyTigerGraph.py\u001b[0m in \u001b[0;36mupsertVertex\u001b[0;34m(self, vertexType, vertexId, attributes)\u001b[0m\n\u001b[1;32m    529\u001b[0m         \u001b[0mvals\u001b[0m \u001b[0;34m=\u001b[0m \u001b[0mself\u001b[0m\u001b[0;34m.\u001b[0m\u001b[0m_upsertAttrs\u001b[0m\u001b[0;34m(\u001b[0m\u001b[0mattributes\u001b[0m\u001b[0;34m)\u001b[0m\u001b[0;34m\u001b[0m\u001b[0;34m\u001b[0m\u001b[0m\n\u001b[1;32m    530\u001b[0m         \u001b[0mdata\u001b[0m \u001b[0;34m=\u001b[0m \u001b[0mjson\u001b[0m\u001b[0;34m.\u001b[0m\u001b[0mdumps\u001b[0m\u001b[0;34m(\u001b[0m\u001b[0;34m{\u001b[0m\u001b[0;34m\"vertices\"\u001b[0m\u001b[0;34m:\u001b[0m \u001b[0;34m{\u001b[0m\u001b[0mvertexType\u001b[0m\u001b[0;34m:\u001b[0m \u001b[0;34m{\u001b[0m\u001b[0mvertexId\u001b[0m\u001b[0;34m:\u001b[0m \u001b[0mvals\u001b[0m\u001b[0;34m}\u001b[0m\u001b[0;34m}\u001b[0m\u001b[0;34m}\u001b[0m\u001b[0;34m)\u001b[0m\u001b[0;34m\u001b[0m\u001b[0;34m\u001b[0m\u001b[0m\n\u001b[0;32m--> 531\u001b[0;31m         \u001b[0;32mreturn\u001b[0m \u001b[0mself\u001b[0m\u001b[0;34m.\u001b[0m\u001b[0m_post\u001b[0m\u001b[0;34m(\u001b[0m\u001b[0mself\u001b[0m\u001b[0;34m.\u001b[0m\u001b[0mrestppUrl\u001b[0m \u001b[0;34m+\u001b[0m \u001b[0;34m\"/graph/\"\u001b[0m \u001b[0;34m+\u001b[0m \u001b[0mself\u001b[0m\u001b[0;34m.\u001b[0m\u001b[0mgraphname\u001b[0m\u001b[0;34m,\u001b[0m \u001b[0mdata\u001b[0m\u001b[0;34m=\u001b[0m\u001b[0mdata\u001b[0m\u001b[0;34m)\u001b[0m\u001b[0;34m[\u001b[0m\u001b[0;36m0\u001b[0m\u001b[0;34m]\u001b[0m\u001b[0;34m[\u001b[0m\u001b[0;34m\"accepted_vertices\"\u001b[0m\u001b[0;34m]\u001b[0m\u001b[0;34m\u001b[0m\u001b[0;34m\u001b[0m\u001b[0m\n\u001b[0m\u001b[1;32m    532\u001b[0m \u001b[0;34m\u001b[0m\u001b[0m\n\u001b[1;32m    533\u001b[0m     \u001b[0;32mdef\u001b[0m \u001b[0mupsertVertices\u001b[0m\u001b[0;34m(\u001b[0m\u001b[0mself\u001b[0m\u001b[0;34m,\u001b[0m \u001b[0mvertexType\u001b[0m\u001b[0;34m,\u001b[0m \u001b[0mvertices\u001b[0m\u001b[0;34m)\u001b[0m\u001b[0;34m:\u001b[0m\u001b[0;34m\u001b[0m\u001b[0;34m\u001b[0m\u001b[0m\n",
      "\u001b[0;32m~/.local/lib/python3.6/site-packages/pyTigerGraph/pyTigerGraph.py\u001b[0m in \u001b[0;36m_post\u001b[0;34m(self, url, authMode, headers, data, resKey, skipCheck, params)\u001b[0m\n\u001b[1;32m    154\u001b[0m         \u001b[0mFor\u001b[0m \u001b[0margument\u001b[0m \u001b[0mdetails\u001b[0m\u001b[0;34m,\u001b[0m \u001b[0msee\u001b[0m\u001b[0;31m \u001b[0m\u001b[0;31m`\u001b[0m\u001b[0m_req\u001b[0m\u001b[0;31m`\u001b[0m\u001b[0;34m.\u001b[0m\u001b[0;34m\u001b[0m\u001b[0;34m\u001b[0m\u001b[0m\n\u001b[1;32m    155\u001b[0m         \"\"\"\n\u001b[0;32m--> 156\u001b[0;31m         \u001b[0;32mreturn\u001b[0m \u001b[0mself\u001b[0m\u001b[0;34m.\u001b[0m\u001b[0m_req\u001b[0m\u001b[0;34m(\u001b[0m\u001b[0;34m\"POST\"\u001b[0m\u001b[0;34m,\u001b[0m \u001b[0murl\u001b[0m\u001b[0;34m,\u001b[0m \u001b[0mauthMode\u001b[0m\u001b[0;34m,\u001b[0m \u001b[0mheaders\u001b[0m\u001b[0;34m,\u001b[0m \u001b[0mdata\u001b[0m\u001b[0;34m,\u001b[0m \u001b[0mresKey\u001b[0m\u001b[0;34m,\u001b[0m \u001b[0mskipCheck\u001b[0m\u001b[0;34m,\u001b[0m \u001b[0mparams\u001b[0m\u001b[0;34m)\u001b[0m\u001b[0;34m\u001b[0m\u001b[0;34m\u001b[0m\u001b[0m\n\u001b[0m\u001b[1;32m    157\u001b[0m \u001b[0;34m\u001b[0m\u001b[0m\n\u001b[1;32m    158\u001b[0m     \u001b[0;32mdef\u001b[0m \u001b[0m_delete\u001b[0m\u001b[0;34m(\u001b[0m\u001b[0mself\u001b[0m\u001b[0;34m,\u001b[0m \u001b[0murl\u001b[0m\u001b[0;34m,\u001b[0m \u001b[0mauthMode\u001b[0m\u001b[0;34m=\u001b[0m\u001b[0;34m\"token\"\u001b[0m\u001b[0;34m)\u001b[0m\u001b[0;34m:\u001b[0m\u001b[0;34m\u001b[0m\u001b[0;34m\u001b[0m\u001b[0m\n",
      "\u001b[0;32m~/.local/lib/python3.6/site-packages/pyTigerGraph/pyTigerGraph.py\u001b[0m in \u001b[0;36m_req\u001b[0;34m(self, method, url, authMode, headers, data, resKey, skipCheck, params)\u001b[0m\n\u001b[1;32m    125\u001b[0m             \u001b[0mres\u001b[0m \u001b[0;34m=\u001b[0m \u001b[0mrequests\u001b[0m\u001b[0;34m.\u001b[0m\u001b[0mrequest\u001b[0m\u001b[0;34m(\u001b[0m\u001b[0mmethod\u001b[0m\u001b[0;34m,\u001b[0m \u001b[0murl\u001b[0m\u001b[0;34m,\u001b[0m \u001b[0mauth\u001b[0m\u001b[0;34m=\u001b[0m\u001b[0m_auth\u001b[0m\u001b[0;34m,\u001b[0m \u001b[0mheaders\u001b[0m\u001b[0;34m=\u001b[0m\u001b[0m_headers\u001b[0m\u001b[0;34m,\u001b[0m \u001b[0mdata\u001b[0m\u001b[0;34m=\u001b[0m\u001b[0m_data\u001b[0m\u001b[0;34m,\u001b[0m \u001b[0mparams\u001b[0m\u001b[0;34m=\u001b[0m\u001b[0mparams\u001b[0m\u001b[0;34m,\u001b[0m \u001b[0mverify\u001b[0m\u001b[0;34m=\u001b[0m\u001b[0mself\u001b[0m\u001b[0;34m.\u001b[0m\u001b[0mcertPath\u001b[0m\u001b[0;34m)\u001b[0m\u001b[0;34m\u001b[0m\u001b[0;34m\u001b[0m\u001b[0m\n\u001b[1;32m    126\u001b[0m         \u001b[0;32melse\u001b[0m\u001b[0;34m:\u001b[0m\u001b[0;34m\u001b[0m\u001b[0;34m\u001b[0m\u001b[0m\n\u001b[0;32m--> 127\u001b[0;31m             \u001b[0mres\u001b[0m \u001b[0;34m=\u001b[0m \u001b[0mrequests\u001b[0m\u001b[0;34m.\u001b[0m\u001b[0mrequest\u001b[0m\u001b[0;34m(\u001b[0m\u001b[0mmethod\u001b[0m\u001b[0;34m,\u001b[0m \u001b[0murl\u001b[0m\u001b[0;34m,\u001b[0m \u001b[0mauth\u001b[0m\u001b[0;34m=\u001b[0m\u001b[0m_auth\u001b[0m\u001b[0;34m,\u001b[0m \u001b[0mheaders\u001b[0m\u001b[0;34m=\u001b[0m\u001b[0m_headers\u001b[0m\u001b[0;34m,\u001b[0m \u001b[0mdata\u001b[0m\u001b[0;34m=\u001b[0m\u001b[0m_data\u001b[0m\u001b[0;34m,\u001b[0m \u001b[0mparams\u001b[0m\u001b[0;34m=\u001b[0m\u001b[0mparams\u001b[0m\u001b[0;34m)\u001b[0m\u001b[0;34m\u001b[0m\u001b[0;34m\u001b[0m\u001b[0m\n\u001b[0m\u001b[1;32m    128\u001b[0m \u001b[0;34m\u001b[0m\u001b[0m\n\u001b[1;32m    129\u001b[0m         \u001b[0;32mif\u001b[0m \u001b[0mself\u001b[0m\u001b[0;34m.\u001b[0m\u001b[0mdebug\u001b[0m\u001b[0;34m:\u001b[0m\u001b[0;34m\u001b[0m\u001b[0;34m\u001b[0m\u001b[0m\n",
      "\u001b[0;32m~/.local/lib/python3.6/site-packages/requests/api.py\u001b[0m in \u001b[0;36mrequest\u001b[0;34m(method, url, **kwargs)\u001b[0m\n\u001b[1;32m     59\u001b[0m     \u001b[0;31m# cases, and look like a memory leak in others.\u001b[0m\u001b[0;34m\u001b[0m\u001b[0;34m\u001b[0m\u001b[0;34m\u001b[0m\u001b[0m\n\u001b[1;32m     60\u001b[0m     \u001b[0;32mwith\u001b[0m \u001b[0msessions\u001b[0m\u001b[0;34m.\u001b[0m\u001b[0mSession\u001b[0m\u001b[0;34m(\u001b[0m\u001b[0;34m)\u001b[0m \u001b[0;32mas\u001b[0m \u001b[0msession\u001b[0m\u001b[0;34m:\u001b[0m\u001b[0;34m\u001b[0m\u001b[0;34m\u001b[0m\u001b[0m\n\u001b[0;32m---> 61\u001b[0;31m         \u001b[0;32mreturn\u001b[0m \u001b[0msession\u001b[0m\u001b[0;34m.\u001b[0m\u001b[0mrequest\u001b[0m\u001b[0;34m(\u001b[0m\u001b[0mmethod\u001b[0m\u001b[0;34m=\u001b[0m\u001b[0mmethod\u001b[0m\u001b[0;34m,\u001b[0m \u001b[0murl\u001b[0m\u001b[0;34m=\u001b[0m\u001b[0murl\u001b[0m\u001b[0;34m,\u001b[0m \u001b[0;34m**\u001b[0m\u001b[0mkwargs\u001b[0m\u001b[0;34m)\u001b[0m\u001b[0;34m\u001b[0m\u001b[0;34m\u001b[0m\u001b[0m\n\u001b[0m\u001b[1;32m     62\u001b[0m \u001b[0;34m\u001b[0m\u001b[0m\n\u001b[1;32m     63\u001b[0m \u001b[0;34m\u001b[0m\u001b[0m\n",
      "\u001b[0;32m~/.local/lib/python3.6/site-packages/requests/sessions.py\u001b[0m in \u001b[0;36mrequest\u001b[0;34m(self, method, url, params, data, headers, cookies, files, auth, timeout, allow_redirects, proxies, hooks, stream, verify, cert, json)\u001b[0m\n\u001b[1;32m    528\u001b[0m         }\n\u001b[1;32m    529\u001b[0m         \u001b[0msend_kwargs\u001b[0m\u001b[0;34m.\u001b[0m\u001b[0mupdate\u001b[0m\u001b[0;34m(\u001b[0m\u001b[0msettings\u001b[0m\u001b[0;34m)\u001b[0m\u001b[0;34m\u001b[0m\u001b[0;34m\u001b[0m\u001b[0m\n\u001b[0;32m--> 530\u001b[0;31m         \u001b[0mresp\u001b[0m \u001b[0;34m=\u001b[0m \u001b[0mself\u001b[0m\u001b[0;34m.\u001b[0m\u001b[0msend\u001b[0m\u001b[0;34m(\u001b[0m\u001b[0mprep\u001b[0m\u001b[0;34m,\u001b[0m \u001b[0;34m**\u001b[0m\u001b[0msend_kwargs\u001b[0m\u001b[0;34m)\u001b[0m\u001b[0;34m\u001b[0m\u001b[0;34m\u001b[0m\u001b[0m\n\u001b[0m\u001b[1;32m    531\u001b[0m \u001b[0;34m\u001b[0m\u001b[0m\n\u001b[1;32m    532\u001b[0m         \u001b[0;32mreturn\u001b[0m \u001b[0mresp\u001b[0m\u001b[0;34m\u001b[0m\u001b[0;34m\u001b[0m\u001b[0m\n",
      "\u001b[0;32m~/.local/lib/python3.6/site-packages/requests/sessions.py\u001b[0m in \u001b[0;36msend\u001b[0;34m(self, request, **kwargs)\u001b[0m\n\u001b[1;32m    641\u001b[0m \u001b[0;34m\u001b[0m\u001b[0m\n\u001b[1;32m    642\u001b[0m         \u001b[0;31m# Send the request\u001b[0m\u001b[0;34m\u001b[0m\u001b[0;34m\u001b[0m\u001b[0;34m\u001b[0m\u001b[0m\n\u001b[0;32m--> 643\u001b[0;31m         \u001b[0mr\u001b[0m \u001b[0;34m=\u001b[0m \u001b[0madapter\u001b[0m\u001b[0;34m.\u001b[0m\u001b[0msend\u001b[0m\u001b[0;34m(\u001b[0m\u001b[0mrequest\u001b[0m\u001b[0;34m,\u001b[0m \u001b[0;34m**\u001b[0m\u001b[0mkwargs\u001b[0m\u001b[0;34m)\u001b[0m\u001b[0;34m\u001b[0m\u001b[0;34m\u001b[0m\u001b[0m\n\u001b[0m\u001b[1;32m    644\u001b[0m \u001b[0;34m\u001b[0m\u001b[0m\n\u001b[1;32m    645\u001b[0m         \u001b[0;31m# Total elapsed time of the request (approximately)\u001b[0m\u001b[0;34m\u001b[0m\u001b[0;34m\u001b[0m\u001b[0;34m\u001b[0m\u001b[0m\n",
      "\u001b[0;32m~/.local/lib/python3.6/site-packages/requests/adapters.py\u001b[0m in \u001b[0;36msend\u001b[0;34m(self, request, stream, timeout, verify, cert, proxies)\u001b[0m\n\u001b[1;32m    447\u001b[0m                     \u001b[0mdecode_content\u001b[0m\u001b[0;34m=\u001b[0m\u001b[0;32mFalse\u001b[0m\u001b[0;34m,\u001b[0m\u001b[0;34m\u001b[0m\u001b[0;34m\u001b[0m\u001b[0m\n\u001b[1;32m    448\u001b[0m                     \u001b[0mretries\u001b[0m\u001b[0;34m=\u001b[0m\u001b[0mself\u001b[0m\u001b[0;34m.\u001b[0m\u001b[0mmax_retries\u001b[0m\u001b[0;34m,\u001b[0m\u001b[0;34m\u001b[0m\u001b[0;34m\u001b[0m\u001b[0m\n\u001b[0;32m--> 449\u001b[0;31m                     \u001b[0mtimeout\u001b[0m\u001b[0;34m=\u001b[0m\u001b[0mtimeout\u001b[0m\u001b[0;34m\u001b[0m\u001b[0;34m\u001b[0m\u001b[0m\n\u001b[0m\u001b[1;32m    450\u001b[0m                 )\n\u001b[1;32m    451\u001b[0m \u001b[0;34m\u001b[0m\u001b[0m\n",
      "\u001b[0;32m~/.local/lib/python3.6/site-packages/urllib3/connectionpool.py\u001b[0m in \u001b[0;36murlopen\u001b[0;34m(self, method, url, body, headers, retries, redirect, assert_same_host, timeout, pool_timeout, release_conn, chunked, body_pos, **response_kw)\u001b[0m\n\u001b[1;32m    675\u001b[0m                 \u001b[0mbody\u001b[0m\u001b[0;34m=\u001b[0m\u001b[0mbody\u001b[0m\u001b[0;34m,\u001b[0m\u001b[0;34m\u001b[0m\u001b[0;34m\u001b[0m\u001b[0m\n\u001b[1;32m    676\u001b[0m                 \u001b[0mheaders\u001b[0m\u001b[0;34m=\u001b[0m\u001b[0mheaders\u001b[0m\u001b[0;34m,\u001b[0m\u001b[0;34m\u001b[0m\u001b[0;34m\u001b[0m\u001b[0m\n\u001b[0;32m--> 677\u001b[0;31m                 \u001b[0mchunked\u001b[0m\u001b[0;34m=\u001b[0m\u001b[0mchunked\u001b[0m\u001b[0;34m,\u001b[0m\u001b[0;34m\u001b[0m\u001b[0;34m\u001b[0m\u001b[0m\n\u001b[0m\u001b[1;32m    678\u001b[0m             )\n\u001b[1;32m    679\u001b[0m \u001b[0;34m\u001b[0m\u001b[0m\n",
      "\u001b[0;32m~/.local/lib/python3.6/site-packages/urllib3/connectionpool.py\u001b[0m in \u001b[0;36m_make_request\u001b[0;34m(self, conn, method, url, timeout, chunked, **httplib_request_kw)\u001b[0m\n\u001b[1;32m    379\u001b[0m         \u001b[0;31m# Trigger any extra validation we need to do.\u001b[0m\u001b[0;34m\u001b[0m\u001b[0;34m\u001b[0m\u001b[0;34m\u001b[0m\u001b[0m\n\u001b[1;32m    380\u001b[0m         \u001b[0;32mtry\u001b[0m\u001b[0;34m:\u001b[0m\u001b[0;34m\u001b[0m\u001b[0;34m\u001b[0m\u001b[0m\n\u001b[0;32m--> 381\u001b[0;31m             \u001b[0mself\u001b[0m\u001b[0;34m.\u001b[0m\u001b[0m_validate_conn\u001b[0m\u001b[0;34m(\u001b[0m\u001b[0mconn\u001b[0m\u001b[0;34m)\u001b[0m\u001b[0;34m\u001b[0m\u001b[0;34m\u001b[0m\u001b[0m\n\u001b[0m\u001b[1;32m    382\u001b[0m         \u001b[0;32mexcept\u001b[0m \u001b[0;34m(\u001b[0m\u001b[0mSocketTimeout\u001b[0m\u001b[0;34m,\u001b[0m \u001b[0mBaseSSLError\u001b[0m\u001b[0;34m)\u001b[0m \u001b[0;32mas\u001b[0m \u001b[0me\u001b[0m\u001b[0;34m:\u001b[0m\u001b[0;34m\u001b[0m\u001b[0;34m\u001b[0m\u001b[0m\n\u001b[1;32m    383\u001b[0m             \u001b[0;31m# Py2 raises this as a BaseSSLError, Py3 raises it as socket timeout.\u001b[0m\u001b[0;34m\u001b[0m\u001b[0;34m\u001b[0m\u001b[0;34m\u001b[0m\u001b[0m\n",
      "\u001b[0;32m~/.local/lib/python3.6/site-packages/urllib3/connectionpool.py\u001b[0m in \u001b[0;36m_validate_conn\u001b[0;34m(self, conn)\u001b[0m\n\u001b[1;32m    976\u001b[0m         \u001b[0;31m# Force connect early to allow us to validate the connection.\u001b[0m\u001b[0;34m\u001b[0m\u001b[0;34m\u001b[0m\u001b[0;34m\u001b[0m\u001b[0m\n\u001b[1;32m    977\u001b[0m         \u001b[0;32mif\u001b[0m \u001b[0;32mnot\u001b[0m \u001b[0mgetattr\u001b[0m\u001b[0;34m(\u001b[0m\u001b[0mconn\u001b[0m\u001b[0;34m,\u001b[0m \u001b[0;34m\"sock\"\u001b[0m\u001b[0;34m,\u001b[0m \u001b[0;32mNone\u001b[0m\u001b[0;34m)\u001b[0m\u001b[0;34m:\u001b[0m  \u001b[0;31m# AppEngine might not have  `.sock`\u001b[0m\u001b[0;34m\u001b[0m\u001b[0;34m\u001b[0m\u001b[0m\n\u001b[0;32m--> 978\u001b[0;31m             \u001b[0mconn\u001b[0m\u001b[0;34m.\u001b[0m\u001b[0mconnect\u001b[0m\u001b[0;34m(\u001b[0m\u001b[0;34m)\u001b[0m\u001b[0;34m\u001b[0m\u001b[0;34m\u001b[0m\u001b[0m\n\u001b[0m\u001b[1;32m    979\u001b[0m \u001b[0;34m\u001b[0m\u001b[0m\n\u001b[1;32m    980\u001b[0m         \u001b[0;32mif\u001b[0m \u001b[0;32mnot\u001b[0m \u001b[0mconn\u001b[0m\u001b[0;34m.\u001b[0m\u001b[0mis_verified\u001b[0m\u001b[0;34m:\u001b[0m\u001b[0;34m\u001b[0m\u001b[0;34m\u001b[0m\u001b[0m\n",
      "\u001b[0;32m~/.local/lib/python3.6/site-packages/urllib3/connection.py\u001b[0m in \u001b[0;36mconnect\u001b[0;34m(self)\u001b[0m\n\u001b[1;32m    369\u001b[0m             \u001b[0mca_cert_data\u001b[0m\u001b[0;34m=\u001b[0m\u001b[0mself\u001b[0m\u001b[0;34m.\u001b[0m\u001b[0mca_cert_data\u001b[0m\u001b[0;34m,\u001b[0m\u001b[0;34m\u001b[0m\u001b[0;34m\u001b[0m\u001b[0m\n\u001b[1;32m    370\u001b[0m             \u001b[0mserver_hostname\u001b[0m\u001b[0;34m=\u001b[0m\u001b[0mserver_hostname\u001b[0m\u001b[0;34m,\u001b[0m\u001b[0;34m\u001b[0m\u001b[0;34m\u001b[0m\u001b[0m\n\u001b[0;32m--> 371\u001b[0;31m             \u001b[0mssl_context\u001b[0m\u001b[0;34m=\u001b[0m\u001b[0mcontext\u001b[0m\u001b[0;34m,\u001b[0m\u001b[0;34m\u001b[0m\u001b[0;34m\u001b[0m\u001b[0m\n\u001b[0m\u001b[1;32m    372\u001b[0m         )\n\u001b[1;32m    373\u001b[0m \u001b[0;34m\u001b[0m\u001b[0m\n",
      "\u001b[0;32m~/.local/lib/python3.6/site-packages/urllib3/util/ssl_.py\u001b[0m in \u001b[0;36mssl_wrap_socket\u001b[0;34m(sock, keyfile, certfile, cert_reqs, ca_certs, server_hostname, ssl_version, ciphers, ssl_context, ca_cert_dir, key_password, ca_cert_data)\u001b[0m\n\u001b[1;32m    382\u001b[0m     ) or IS_SECURETRANSPORT:\n\u001b[1;32m    383\u001b[0m         \u001b[0;32mif\u001b[0m \u001b[0mHAS_SNI\u001b[0m \u001b[0;32mand\u001b[0m \u001b[0mserver_hostname\u001b[0m \u001b[0;32mis\u001b[0m \u001b[0;32mnot\u001b[0m \u001b[0;32mNone\u001b[0m\u001b[0;34m:\u001b[0m\u001b[0;34m\u001b[0m\u001b[0;34m\u001b[0m\u001b[0m\n\u001b[0;32m--> 384\u001b[0;31m             \u001b[0;32mreturn\u001b[0m \u001b[0mcontext\u001b[0m\u001b[0;34m.\u001b[0m\u001b[0mwrap_socket\u001b[0m\u001b[0;34m(\u001b[0m\u001b[0msock\u001b[0m\u001b[0;34m,\u001b[0m \u001b[0mserver_hostname\u001b[0m\u001b[0;34m=\u001b[0m\u001b[0mserver_hostname\u001b[0m\u001b[0;34m)\u001b[0m\u001b[0;34m\u001b[0m\u001b[0;34m\u001b[0m\u001b[0m\n\u001b[0m\u001b[1;32m    385\u001b[0m \u001b[0;34m\u001b[0m\u001b[0m\n\u001b[1;32m    386\u001b[0m         warnings.warn(\n",
      "\u001b[0;32m/usr/lib/python3.6/ssl.py\u001b[0m in \u001b[0;36mwrap_socket\u001b[0;34m(self, sock, server_side, do_handshake_on_connect, suppress_ragged_eofs, server_hostname, session)\u001b[0m\n\u001b[1;32m    405\u001b[0m                          \u001b[0msuppress_ragged_eofs\u001b[0m\u001b[0;34m=\u001b[0m\u001b[0msuppress_ragged_eofs\u001b[0m\u001b[0;34m,\u001b[0m\u001b[0;34m\u001b[0m\u001b[0;34m\u001b[0m\u001b[0m\n\u001b[1;32m    406\u001b[0m                          \u001b[0mserver_hostname\u001b[0m\u001b[0;34m=\u001b[0m\u001b[0mserver_hostname\u001b[0m\u001b[0;34m,\u001b[0m\u001b[0;34m\u001b[0m\u001b[0;34m\u001b[0m\u001b[0m\n\u001b[0;32m--> 407\u001b[0;31m                          _context=self, _session=session)\n\u001b[0m\u001b[1;32m    408\u001b[0m \u001b[0;34m\u001b[0m\u001b[0m\n\u001b[1;32m    409\u001b[0m     def wrap_bio(self, incoming, outgoing, server_side=False,\n",
      "\u001b[0;32m/usr/lib/python3.6/ssl.py\u001b[0m in \u001b[0;36m__init__\u001b[0;34m(self, sock, keyfile, certfile, server_side, cert_reqs, ssl_version, ca_certs, do_handshake_on_connect, family, type, proto, fileno, suppress_ragged_eofs, npn_protocols, ciphers, server_hostname, _context, _session)\u001b[0m\n\u001b[1;32m    815\u001b[0m                         \u001b[0;31m# non-blocking\u001b[0m\u001b[0;34m\u001b[0m\u001b[0;34m\u001b[0m\u001b[0;34m\u001b[0m\u001b[0m\n\u001b[1;32m    816\u001b[0m                         \u001b[0;32mraise\u001b[0m \u001b[0mValueError\u001b[0m\u001b[0;34m(\u001b[0m\u001b[0;34m\"do_handshake_on_connect should not be specified for non-blocking sockets\"\u001b[0m\u001b[0;34m)\u001b[0m\u001b[0;34m\u001b[0m\u001b[0;34m\u001b[0m\u001b[0m\n\u001b[0;32m--> 817\u001b[0;31m                     \u001b[0mself\u001b[0m\u001b[0;34m.\u001b[0m\u001b[0mdo_handshake\u001b[0m\u001b[0;34m(\u001b[0m\u001b[0;34m)\u001b[0m\u001b[0;34m\u001b[0m\u001b[0;34m\u001b[0m\u001b[0m\n\u001b[0m\u001b[1;32m    818\u001b[0m \u001b[0;34m\u001b[0m\u001b[0m\n\u001b[1;32m    819\u001b[0m             \u001b[0;32mexcept\u001b[0m \u001b[0;34m(\u001b[0m\u001b[0mOSError\u001b[0m\u001b[0;34m,\u001b[0m \u001b[0mValueError\u001b[0m\u001b[0;34m)\u001b[0m\u001b[0;34m:\u001b[0m\u001b[0;34m\u001b[0m\u001b[0;34m\u001b[0m\u001b[0m\n",
      "\u001b[0;32m/usr/lib/python3.6/ssl.py\u001b[0m in \u001b[0;36mdo_handshake\u001b[0;34m(self, block)\u001b[0m\n\u001b[1;32m   1075\u001b[0m             \u001b[0;32mif\u001b[0m \u001b[0mtimeout\u001b[0m \u001b[0;34m==\u001b[0m \u001b[0;36m0.0\u001b[0m \u001b[0;32mand\u001b[0m \u001b[0mblock\u001b[0m\u001b[0;34m:\u001b[0m\u001b[0;34m\u001b[0m\u001b[0;34m\u001b[0m\u001b[0m\n\u001b[1;32m   1076\u001b[0m                 \u001b[0mself\u001b[0m\u001b[0;34m.\u001b[0m\u001b[0msettimeout\u001b[0m\u001b[0;34m(\u001b[0m\u001b[0;32mNone\u001b[0m\u001b[0;34m)\u001b[0m\u001b[0;34m\u001b[0m\u001b[0;34m\u001b[0m\u001b[0m\n\u001b[0;32m-> 1077\u001b[0;31m             \u001b[0mself\u001b[0m\u001b[0;34m.\u001b[0m\u001b[0m_sslobj\u001b[0m\u001b[0;34m.\u001b[0m\u001b[0mdo_handshake\u001b[0m\u001b[0;34m(\u001b[0m\u001b[0;34m)\u001b[0m\u001b[0;34m\u001b[0m\u001b[0;34m\u001b[0m\u001b[0m\n\u001b[0m\u001b[1;32m   1078\u001b[0m         \u001b[0;32mfinally\u001b[0m\u001b[0;34m:\u001b[0m\u001b[0;34m\u001b[0m\u001b[0;34m\u001b[0m\u001b[0m\n\u001b[1;32m   1079\u001b[0m             \u001b[0mself\u001b[0m\u001b[0;34m.\u001b[0m\u001b[0msettimeout\u001b[0m\u001b[0;34m(\u001b[0m\u001b[0mtimeout\u001b[0m\u001b[0;34m)\u001b[0m\u001b[0;34m\u001b[0m\u001b[0;34m\u001b[0m\u001b[0m\n",
      "\u001b[0;32m/usr/lib/python3.6/ssl.py\u001b[0m in \u001b[0;36mdo_handshake\u001b[0;34m(self)\u001b[0m\n\u001b[1;32m    687\u001b[0m     \u001b[0;32mdef\u001b[0m \u001b[0mdo_handshake\u001b[0m\u001b[0;34m(\u001b[0m\u001b[0mself\u001b[0m\u001b[0;34m)\u001b[0m\u001b[0;34m:\u001b[0m\u001b[0;34m\u001b[0m\u001b[0;34m\u001b[0m\u001b[0m\n\u001b[1;32m    688\u001b[0m         \u001b[0;34m\"\"\"Start the SSL/TLS handshake.\"\"\"\u001b[0m\u001b[0;34m\u001b[0m\u001b[0;34m\u001b[0m\u001b[0m\n\u001b[0;32m--> 689\u001b[0;31m         \u001b[0mself\u001b[0m\u001b[0;34m.\u001b[0m\u001b[0m_sslobj\u001b[0m\u001b[0;34m.\u001b[0m\u001b[0mdo_handshake\u001b[0m\u001b[0;34m(\u001b[0m\u001b[0;34m)\u001b[0m\u001b[0;34m\u001b[0m\u001b[0;34m\u001b[0m\u001b[0m\n\u001b[0m\u001b[1;32m    690\u001b[0m         \u001b[0;32mif\u001b[0m \u001b[0mself\u001b[0m\u001b[0;34m.\u001b[0m\u001b[0mcontext\u001b[0m\u001b[0;34m.\u001b[0m\u001b[0mcheck_hostname\u001b[0m\u001b[0;34m:\u001b[0m\u001b[0;34m\u001b[0m\u001b[0;34m\u001b[0m\u001b[0m\n\u001b[1;32m    691\u001b[0m             \u001b[0;32mif\u001b[0m \u001b[0;32mnot\u001b[0m \u001b[0mself\u001b[0m\u001b[0;34m.\u001b[0m\u001b[0mserver_hostname\u001b[0m\u001b[0;34m:\u001b[0m\u001b[0;34m\u001b[0m\u001b[0;34m\u001b[0m\u001b[0m\n",
      "\u001b[0;31mKeyboardInterrupt\u001b[0m: "
     ]
    }
   ],
   "source": [
    "patients.apply(lambda row: upsertPatients(row), axis=1)"
   ]
  },
  {
   "cell_type": "code",
   "execution_count": null,
   "metadata": {},
   "outputs": [],
   "source": [
    "providers.head()"
   ]
  },
  {
   "cell_type": "code",
   "execution_count": null,
   "metadata": {},
   "outputs": [],
   "source": [
    "# CREATE VERTEX Provider (PRIMARY_ID Id STRING, Name STRING, Gender STRING, Speciality STRING, Utilization INT)\n",
    "def upsertProviders(row):\n",
    "    attributes = {\n",
    "        \"Name\": row[\"name\"], \n",
    "        \"Gender\": row[\"gender\"],\n",
    "        \"Speciality\": row[\"specialty\"],\n",
    "        \"Utilization\": row[\"utilization\"]\n",
    "    }\n",
    "    conn.upsertVertex(\"Provider\", row[\"id\"], attributes)"
   ]
  },
  {
   "cell_type": "code",
   "execution_count": null,
   "metadata": {},
   "outputs": [],
   "source": [
    "providers.apply(lambda row: upsertProviders(row), axis=1)"
   ]
  },
  {
   "cell_type": "code",
   "execution_count": null,
   "metadata": {},
   "outputs": [],
   "source": [
    "encounters.head()"
   ]
  },
  {
   "cell_type": "code",
   "execution_count": null,
   "metadata": {},
   "outputs": [],
   "source": [
    "# CREATE VERTEX Visit (PRIMARY_ID Id STRING, Code STRING, Description STRING, Started DATETIME, Stopped DATETIME, Cost DOUBLE) \n",
    "def upsertVisits(row):\n",
    "    attributes = {\n",
    "        \"Code\": str(row[\"code\"]),\n",
    "        \"Description\": row[\"description\"],\n",
    "        \"Started\": row[\"dateStart\"],\n",
    "        \"Stopped\": row[\"dateStop\"],\n",
    "        \"Cost\": row[\"cost\"]\n",
    "    }\n",
    "\n",
    "    conn.upsertVertex(\"Visit\", row[\"id\"], attributes)\n",
    "    conn.upsertEdge(\"Patient\", row[\"patient\"], \"patientVisit\", \"Visit\", row[\"id\"])\n",
    "    conn.upsertEdge(\"Provider\", row[\"provider\"], \"providerVisit\", \"Visit\", row[\"id\"])\n",
    "    conn.upsertEdge(\"Patient\", row[\"patient\"], \"patientSeesProvider\", \"Provider\", row[\"provider\"])"
   ]
  },
  {
   "cell_type": "code",
   "execution_count": null,
   "metadata": {},
   "outputs": [],
   "source": [
    "encounters.apply(lambda row: upsertVisits(row), axis=1)"
   ]
  },
  {
   "cell_type": "code",
   "execution_count": null,
   "metadata": {},
   "outputs": [],
   "source": [
    "medications.head()"
   ]
  },
  {
   "cell_type": "code",
   "execution_count": null,
   "metadata": {},
   "outputs": [],
   "source": [
    "medications[\"dateEnd\"].fillna(\"2999-12-31 00:00:00\", inplace=True)\n",
    "medications.fillna(\"\", inplace=True)"
   ]
  },
  {
   "cell_type": "code",
   "execution_count": null,
   "metadata": {},
   "outputs": [],
   "source": [
    "#CREATE VERTEX Medication(PRIMARY_ID Id STRING, Code STRING, Description STRING, Cost DOUBLE, Dispense INT, TotalCost DOUBLE, ReasonCode STRING, ReasonDescription STRING)\n",
    "#CREATE DIRECTED EDGE hasMedication (FROM Patient, TO Medication, Started DATETIME, Stopped DATETIME DEFAULT \"2999-12-31 00:00:00\") WITH REVERSE_EDGE = \"patientMedication\"\n",
    "def upsertMedications(row):\n",
    "    attributes = {\n",
    "        \"Code\": str(row[\"code\"]),\n",
    "        \"Description\": row[\"description\"],\n",
    "        \"Cost\": row[\"cost\"],\n",
    "        \"Dispense\": row[\"dispenses\"],\n",
    "        \"TotalCost\": row[\"totalCost\"],\n",
    "        \"ReasonCode\": str(row[\"reasonCode\"]),\n",
    "        \"ReasonDescription\": row[\"reasonDesc\"]\n",
    "    }\n",
    "\n",
    "    conn.upsertVertex(\"Medication\", row[\"code\"], attributes)\n",
    "\n",
    "    edgeAttributes = {\n",
    "        \"Started\": row[\"dateStart\"],\n",
    "        \"Stopped\": row[\"dateEnd\"]\n",
    "    }\n",
    "\n",
    "    conn.upsertEdge(\"Patient\", row[\"patient\"], \"hasMedication\", \"Medication\", row[\"code\"])"
   ]
  },
  {
   "cell_type": "code",
   "execution_count": null,
   "metadata": {},
   "outputs": [],
   "source": [
    "medications.apply(lambda row: upsertMedications(row), axis=1)"
   ]
  },
  {
   "cell_type": "code",
   "execution_count": null,
   "metadata": {},
   "outputs": [],
   "source": [
    "conditions.head()"
   ]
  },
  {
   "cell_type": "code",
   "execution_count": null,
   "metadata": {},
   "outputs": [],
   "source": [
    "len(conditions[\"condition\"].unique())"
   ]
  },
  {
   "cell_type": "code",
   "execution_count": null,
   "metadata": {},
   "outputs": [],
   "source": [
    "conditions.shape"
   ]
  },
  {
   "cell_type": "code",
   "execution_count": null,
   "metadata": {},
   "outputs": [],
   "source": [
    "conditions[\"dateEnd\"].fillna(\"2999-12-31 00:00:00\", inplace=True)\n",
    "conditions.fillna(\"\", inplace=True)"
   ]
  },
  {
   "cell_type": "code",
   "execution_count": null,
   "metadata": {},
   "outputs": [],
   "source": [
    "# CREATE VERTEX Condition (PRIMARY_ID Id STRING, Code STRING, Description STRING)\n",
    "# CREATE DIRECTED EDGE hasCondition (FROM Patient, TO Condition, Started DATETIME, Stopped DATETIME DEFAULT \"2999-12-31 00:00:00\") WITH REVERSE_EDGE = \"patientCondition\"\n",
    "def upsertConditions(row):\n",
    "    attributes = {\n",
    "        \"Code\": str(row[\"code\"]),\n",
    "        \"Description\": row[\"description\"]\n",
    "    }\n",
    "\n",
    "    conn.upsertVertex(\"Condition\", row[\"code\"], attributes)\n",
    "    conn.upsertEdge(\"Patient\", row[\"patient\"], \"hasCondition\", \"Condition\", row[\"code\"])"
   ]
  },
  {
   "cell_type": "code",
   "execution_count": null,
   "metadata": {},
   "outputs": [],
   "source": [
    "conditions.apply(lambda row: upsertConditions(row), axis=1)"
   ]
  },
  {
   "cell_type": "code",
   "execution_count": null,
   "metadata": {},
   "outputs": [],
   "source": [
    "procedures.head()"
   ]
  },
  {
   "cell_type": "code",
   "execution_count": null,
   "metadata": {},
   "outputs": [],
   "source": [
    "procedures.fillna(\"\", inplace=True)"
   ]
  },
  {
   "cell_type": "code",
   "execution_count": null,
   "metadata": {},
   "outputs": [],
   "source": [
    "# CREATE VERTEX PatientProcedure(PRIMARY_ID Id STRING, Code STRING, Description STRING, Cost DOUBLE, ReasonCode STRING, ReasonDescription STRING)\n",
    "# CREATE DIRECTED EDGE hasProcedure (FROM Patient, TO PatientProcedure, Performed DATETIME) WITH REVERSE_EDGE = \"patientProcedure\"\n",
    "# CREATE DIRECTED EDGE procedureDuringVisit (FROM PatientProcedure, TO Visit, Performed DATETIME) WITH REVERSE_EDGE = \"visitForProcedure\"\n",
    "\n",
    "def upsertProcedure(row):\n",
    "    attributes = {\n",
    "        \"Code\": str(row[\"code\"]),\n",
    "        \"Description\": row[\"description\"],\n",
    "        \"Cost\": row[\"cost\"],\n",
    "        \"ReasonCode\": str(row[\"reasonCode\"]),\n",
    "        \"ReasonDescription\": row[\"reasonDescription\"]\n",
    "    }\n",
    "\n",
    "    conn.upsertVertex(\"PatientProcedure\", row[\"code\"], attributes)\n",
    "\n",
    "    edgeAttributes = {\n",
    "        \"Performed\": row[\"date\"]\n",
    "    }\n",
    "\n",
    "    conn.upsertEdge(\"Patient\", row[\"patient\"], \"hasProcedure\", \"PatientProcedure\", row[\"code\"], edgeAttributes)\n",
    "    conn.upsertEdge(\"PatientProcedure\", row[\"code\"], \"procedureDuringVisit\", \"Visit\", row[\"encounter\"], edgeAttributes)"
   ]
  },
  {
   "cell_type": "code",
   "execution_count": null,
   "metadata": {},
   "outputs": [],
   "source": [
    "procedures.apply(lambda row: upsertProcedure(row), axis=1)"
   ]
  },
  {
   "cell_type": "code",
   "execution_count": null,
   "metadata": {},
   "outputs": [],
   "source": []
  }
 ],
 "metadata": {
  "language_info": {
   "codemirror_mode": {
    "name": "ipython",
    "version": 3
   },
   "file_extension": ".py",
   "mimetype": "text/x-python",
   "name": "python",
   "nbconvert_exporter": "python",
   "pygments_lexer": "ipython3",
   "version": "3.6.9-final"
  },
  "orig_nbformat": 2,
  "kernelspec": {
   "name": "python3",
   "display_name": "Python 3.6.9 64-bit",
   "metadata": {
    "interpreter": {
     "hash": "31f2aee4e71d21fbe5cf8b01ff0e069b9275f58929596ceb00d14d90e3e16cd6"
    }
   }
  }
 },
 "nbformat": 4,
 "nbformat_minor": 2
}