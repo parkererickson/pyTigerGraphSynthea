{
 "cells": [
  {
   "cell_type": "code",
   "execution_count": 1,
   "metadata": {
    "tags": []
   },
   "outputs": [],
   "source": [
    "import pandas as pd\n",
    "import pyTigerGraph as tg\n",
    "conn = tg.TigerGraphConnection(host=\"http://localhost\", gsqlVersion=\"3.0.5\", graphname=\"Synthea\")"
   ]
  },
  {
   "cell_type": "code",
   "execution_count": 2,
   "metadata": {
    "tags": []
   },
   "outputs": [
    {
     "output_type": "stream",
     "name": "stdout",
     "text": "========================\nTrying version: v3_0_5\nConnecting to localhost:14240\nWARNING: sun.reflect.Reflection.getCallerClass is not supported. This will impact performance.\nIt's most likely your TigerGraph server has been upgraded.\nPlease follow this document to obtain the corresponding GSQL client to the server:\nhttps://docs.tigergraph.com/dev/using-a-remote-gsql-client\nSupported Versions ( v3_0_5 v3_0_0 v2_6_2 v2_6_0 v2_5_2 v2_5_0 v2_4_1 v2_4_0 v2_3_2 )\nYou may use 'GSQL_CLIENT_VERSION=v? java ...' or \n    'java -DGSQL_CLIENT_VERSION=v? ...' to specify the version\n========================\nTrying version: v3_0_0\nConnecting to localhost:14240\nIf there is any relative path, it is relative to <System.AppRoot>/dev/gdk/gsql\nThe query providerPatients has been added!\nStart installing queries, about 1 minute ...\nproviderPatients query: curl -X GET 'http://127.0.0.1:9000/query/Synthea/providerPatients?pvdr=VALUE'. Add -H \"Authorization: Bearer TOKEN\" if authentication is enabled.\n\n[=================================================================] 100% (1/1) \n\n"
    }
   ],
   "source": [
    "print(conn.gsql('''\n",
    "CREATE QUERY providerPatients(VERTEX<Provider> pvdr) FOR GRAPH Synthea{\n",
    "  Start = {pvdr};\n",
    "  patients = SELECT pats FROM Start:s -(providerSeesPatient)-> Patient:pats;\n",
    "  PRINT patients;\n",
    "}\n",
    "\n",
    "INSTALL QUERY providerPatients\n",
    "'''))"
   ]
  },
  {
   "cell_type": "code",
   "execution_count": 3,
   "metadata": {
    "tags": []
   },
   "outputs": [
    {
     "output_type": "stream",
     "name": "stdout",
     "text": "========================\nTrying version: v3_0_5\nConnecting to localhost:14240\nWARNING: sun.reflect.Reflection.getCallerClass is not supported. This will impact performance.\nIt's most likely your TigerGraph server has been upgraded.\nPlease follow this document to obtain the corresponding GSQL client to the server:\nhttps://docs.tigergraph.com/dev/using-a-remote-gsql-client\nSupported Versions ( v3_0_5 v3_0_0 v2_6_2 v2_6_0 v2_5_2 v2_5_0 v2_4_1 v2_4_0 v2_3_2 )\nYou may use 'GSQL_CLIENT_VERSION=v? java ...' or \n    'java -DGSQL_CLIENT_VERSION=v? ...' to specify the version\n========================\nTrying version: v3_0_0\nConnecting to localhost:14240\nIf there is any relative path, it is relative to <System.AppRoot>/dev/gdk/gsql\nThe query AverageVisits has been added!\nStart installing queries, about 1 minute ...\nAverageVisits query: curl -X GET 'http://127.0.0.1:9000/query/Synthea/AverageVisits'. Add -H \"Authorization: Bearer TOKEN\" if authentication is enabled.\n\n[=================================================================] 100% (1/1) \n\n"
    }
   ],
   "source": [
    "print(conn.gsql('''\n",
    "CREATE QUERY AverageVisits(/* Parameters here */) FOR GRAPH Synthea { \n",
    "  GroupByAccum<VERTEX<Patient> p, STRING name, SumAccum<INT> visitCount> @@patientVisit;\n",
    "\tMinAccum<INT> @@fewestVisits;\n",
    "\tMaxAccum<INT> @@mostVisits;\n",
    "\tAvgAccum @@avgVisits;\n",
    "\t\n",
    "  patients = {Patient.*};\n",
    "  tmp = SELECT\n",
    "\t        p \n",
    "       FROM patients:p - (patientVisit:e) -> Visit:v\n",
    "       ACCUM @@patientVisit += (p, p.FirstName + \" \" + p.LastName -> p.outdegree()),\n",
    "\t           @@fewestVisits += p.outdegree(),\n",
    "\t           @@mostVisits += p.outdegree(),\n",
    "\t           @@avgVisits += p.outdegree();\n",
    "  \n",
    "    PRINT @@patientVisit;\n",
    "\n",
    "    PRINT @@mostVisits;\n",
    "    PRINT @@fewestVisits;\n",
    "    PRINT @@avgVisits;\n",
    "}\n",
    "\n",
    "INSTALL QUERY AverageVisits\n",
    "'''))"
   ]
  },
  {
   "cell_type": "code",
   "execution_count": 4,
   "metadata": {
    "tags": []
   },
   "outputs": [
    {
     "output_type": "stream",
     "name": "stdout",
     "text": "========================\nTrying version: v3_0_5\nConnecting to localhost:14240\nWARNING: sun.reflect.Reflection.getCallerClass is not supported. This will impact performance.\nIt's most likely your TigerGraph server has been upgraded.\nPlease follow this document to obtain the corresponding GSQL client to the server:\nhttps://docs.tigergraph.com/dev/using-a-remote-gsql-client\nSupported Versions ( v3_0_5 v3_0_0 v2_6_2 v2_6_0 v2_5_2 v2_5_0 v2_4_1 v2_4_0 v2_3_2 )\nYou may use 'GSQL_CLIENT_VERSION=v? java ...' or \n    'java -DGSQL_CLIENT_VERSION=v? ...' to specify the version\n========================\nTrying version: v3_0_0\nConnecting to localhost:14240\nIf there is any relative path, it is relative to <System.AppRoot>/dev/gdk/gsql\nThe query PatientVisitsByProvider has been added!\nStart installing queries, about 1 minute ...\nPatientVisitsByProvider query: curl -X GET 'http://127.0.0.1:9000/query/Synthea/PatientVisitsByProvider?pvdr=VALUE'. Add -H \"Authorization: Bearer TOKEN\" if authentication is enabled.\n\n[=================================================================] 100% (1/1) \n\n"
    }
   ],
   "source": [
    "print(conn.gsql('''\n",
    "CREATE QUERY PatientVisitsByProvider(VERTEX<Provider> pvdr) FOR GRAPH Synthea { \n",
    "#Define an accumulator\n",
    "  SetAccum<VERTEX<Patient>> @@patientList;\n",
    "  MapAccum<VERTEX<Patient>, INT> @@patientVisits;\n",
    "  #Start with Provider\n",
    "  providers = {pvdr};\n",
    "  #Find all visits for that Provider\n",
    "  visits = SELECT \n",
    "\t      v \n",
    "\t   FROM providers:p-(providerVisit:e)->Visit:v;\n",
    "  #Display how many total visits that provider had\n",
    "  PRINT visits.size();\n",
    "  #Accumulate a set of patients, declaring as set will not permit duplicates\n",
    "  patients = SELECT \n",
    "\t            p \n",
    "\t     FROM visits:v-(patientSeen:e)->Patient:p\n",
    "\t     ACCUM  @@patientList += p, @@patientVisits += ( p -> 1);\n",
    "   #Iterate through set printing out relevant information \n",
    "   PRINT @@patientVisits;\n",
    "}\n",
    "\n",
    "INSTALL QUERY PatientVisitsByProvider\n",
    "'''))"
   ]
  },
  {
   "cell_type": "code",
   "execution_count": 5,
   "metadata": {
    "tags": []
   },
   "outputs": [
    {
     "output_type": "execute_result",
     "data": {
      "text/plain": "[{'patients': [{'v_id': '242f6a33-80c8-445d-b249-f9bf1d0a8848',\n    'v_type': 'Patient',\n    'attributes': {'FirstName': 'Kortney212',\n     'LastName': 'Cruickshank494',\n     'Prefix': 'Mrs.',\n     'Suffix': '',\n     'MaidenName': 'Fahey393',\n     'MaritalStatus': 'M',\n     'Gender': 'F',\n     'Race': 'white',\n     'Ethnicity': 'french',\n     'DateOfBirth': '1954-04-24 00:00:00',\n     'DateOfDeath': '2999-12-31 00:00:00',\n     'SSN': '999-25-7255',\n     'DL': 'S99987527',\n     'Passport': 'X83447957X'}},\n   {'v_id': 'd210719d-28fd-4d92-ba64-12d79449fa31',\n    'v_type': 'Patient',\n    'attributes': {'FirstName': 'Claudia969',\n     'LastName': 'Wilkinson796',\n     'Prefix': 'Ms.',\n     'Suffix': '',\n     'MaidenName': '',\n     'MaritalStatus': 'S',\n     'Gender': 'F',\n     'Race': 'white',\n     'Ethnicity': 'polish',\n     'DateOfBirth': '1950-10-22 00:00:00',\n     'DateOfDeath': '2999-12-31 00:00:00',\n     'SSN': '999-94-6509',\n     'DL': 'S99967507',\n     'Passport': 'X66295856X'}},\n   {'v_id': '0ec7ce44-20d3-494e-a2aa-d010ead0aa15',\n    'v_type': 'Patient',\n    'attributes': {'FirstName': 'Beau391',\n     'LastName': 'Kovacek682',\n     'Prefix': 'Mr.',\n     'Suffix': '',\n     'MaidenName': '',\n     'MaritalStatus': 'M',\n     'Gender': 'M',\n     'Race': 'white',\n     'Ethnicity': 'italian',\n     'DateOfBirth': '1955-10-07 00:00:00',\n     'DateOfDeath': '2999-12-31 00:00:00',\n     'SSN': '999-77-2272',\n     'DL': 'S99947854',\n     'Passport': 'X52030560X'}},\n   {'v_id': '73318737-f96e-4447-b050-4c56cbb2827b',\n    'v_type': 'Patient',\n    'attributes': {'FirstName': 'Tammie751',\n     'LastName': 'Haley279',\n     'Prefix': 'Mrs.',\n     'Suffix': '',\n     'MaidenName': 'Nicolas769',\n     'MaritalStatus': 'M',\n     'Gender': 'F',\n     'Race': 'native',\n     'Ethnicity': 'american_indian',\n     'DateOfBirth': '1967-02-19 00:00:00',\n     'DateOfDeath': '2999-12-31 00:00:00',\n     'SSN': '999-25-3063',\n     'DL': 'S99977940',\n     'Passport': 'X38073266X'}},\n   {'v_id': '860a94d2-f095-4bb1-ba2a-6dfd026e65ed',\n    'v_type': 'Patient',\n    'attributes': {'FirstName': 'Gene733',\n     'LastName': 'Ziemann98',\n     'Prefix': 'Mr.',\n     'Suffix': '',\n     'MaidenName': '',\n     'MaritalStatus': 'M',\n     'Gender': 'M',\n     'Race': 'white',\n     'Ethnicity': 'irish',\n     'DateOfBirth': '1951-12-07 00:00:00',\n     'DateOfDeath': '2999-12-31 00:00:00',\n     'SSN': '999-92-5733',\n     'DL': 'S99911349',\n     'Passport': 'X65036234X'}},\n   {'v_id': 'da552acd-c147-4abc-bc05-5f07290c4cfc',\n    'v_type': 'Patient',\n    'attributes': {'FirstName': 'Kerrie266',\n     'LastName': 'Treutel973',\n     'Prefix': 'Ms.',\n     'Suffix': '',\n     'MaidenName': '',\n     'MaritalStatus': 'S',\n     'Gender': 'F',\n     'Race': 'white',\n     'Ethnicity': 'american',\n     'DateOfBirth': '1979-04-07 00:00:00',\n     'DateOfDeath': '2999-12-31 00:00:00',\n     'SSN': '999-50-9000',\n     'DL': 'S99942199',\n     'Passport': 'X81305131X'}},\n   {'v_id': 'c303480e-eb1a-4e27-a99e-91152adff7ef',\n    'v_type': 'Patient',\n    'attributes': {'FirstName': 'Kayla528',\n     'LastName': 'Smitham825',\n     'Prefix': 'Ms.',\n     'Suffix': '',\n     'MaidenName': '',\n     'MaritalStatus': 'S',\n     'Gender': 'F',\n     'Race': 'white',\n     'Ethnicity': 'french',\n     'DateOfBirth': '1954-04-24 00:00:00',\n     'DateOfDeath': '2999-12-31 00:00:00',\n     'SSN': '999-68-1420',\n     'DL': 'S99945783',\n     'Passport': 'X41425065X'}},\n   {'v_id': '5d3c522b-1550-41b2-8fdb-8d0466a11cab',\n    'v_type': 'Patient',\n    'attributes': {'FirstName': 'Jorge203',\n     'LastName': 'Canales95',\n     'Prefix': 'Mr.',\n     'Suffix': '',\n     'MaidenName': '',\n     'MaritalStatus': 'M',\n     'Gender': 'M',\n     'Race': 'hispanic',\n     'Ethnicity': 'mexican',\n     'DateOfBirth': '1960-01-31 00:00:00',\n     'DateOfDeath': '2999-12-31 00:00:00',\n     'SSN': '999-87-5225',\n     'DL': 'S99928810',\n     'Passport': 'X46759731X'}},\n   {'v_id': '35e1e3b0-789b-4875-b568-e7c61daa0758',\n    'v_type': 'Patient',\n    'attributes': {'FirstName': 'Candice681',\n     'LastName': 'Hettinger594',\n     'Prefix': 'Mrs.',\n     'Suffix': '',\n     'MaidenName': 'Kling921',\n     'MaritalStatus': 'M',\n     'Gender': 'F',\n     'Race': 'white',\n     'Ethnicity': 'irish',\n     'DateOfBirth': '1946-10-18 00:00:00',\n     'DateOfDeath': '2999-12-31 00:00:00',\n     'SSN': '999-95-5428',\n     'DL': 'S99954627',\n     'Passport': 'X31838003X'}}]}]"
     },
     "metadata": {},
     "execution_count": 5
    }
   ],
   "source": [
    "params = {\"pvdr\": \"e44f438a-601b-30fb-85eb-bfaf8ddcb5ad\"}\n",
    "\n",
    "conn.runInstalledQuery(\"providerPatients\", params)"
   ]
  },
  {
   "cell_type": "code",
   "execution_count": 6,
   "metadata": {},
   "outputs": [],
   "source": [
    "res = conn.runInstalledQuery(\"AverageVisits\")"
   ]
  },
  {
   "cell_type": "code",
   "execution_count": 7,
   "metadata": {},
   "outputs": [
    {
     "output_type": "execute_result",
     "data": {
      "text/plain": "{'@@mostVisits': 256}"
     },
     "metadata": {},
     "execution_count": 7
    }
   ],
   "source": [
    "res[1]"
   ]
  },
  {
   "cell_type": "code",
   "execution_count": 8,
   "metadata": {},
   "outputs": [
    {
     "output_type": "execute_result",
     "data": {
      "text/plain": "{'@@fewestVisits': 2}"
     },
     "metadata": {},
     "execution_count": 8
    }
   ],
   "source": [
    "res[2]"
   ]
  },
  {
   "cell_type": "code",
   "execution_count": 9,
   "metadata": {},
   "outputs": [
    {
     "output_type": "execute_result",
     "data": {
      "text/plain": "{'@@avgVisits': 38.29841}"
     },
     "metadata": {},
     "execution_count": 9
    }
   ],
   "source": [
    "res[3]"
   ]
  },
  {
   "cell_type": "code",
   "execution_count": 10,
   "metadata": {},
   "outputs": [
    {
     "output_type": "execute_result",
     "data": {
      "text/plain": "[{'visits.size()': 58},\n {'@@patientVisits': {'c303480e-eb1a-4e27-a99e-91152adff7ef': 2,\n   '860a94d2-f095-4bb1-ba2a-6dfd026e65ed': 9,\n   'd210719d-28fd-4d92-ba64-12d79449fa31': 11,\n   '242f6a33-80c8-445d-b249-f9bf1d0a8848': 13,\n   '73318737-f96e-4447-b050-4c56cbb2827b': 6,\n   '35e1e3b0-789b-4875-b568-e7c61daa0758': 3,\n   '5d3c522b-1550-41b2-8fdb-8d0466a11cab': 5,\n   'da552acd-c147-4abc-bc05-5f07290c4cfc': 6,\n   '0ec7ce44-20d3-494e-a2aa-d010ead0aa15': 3}}]"
     },
     "metadata": {},
     "execution_count": 10
    }
   ],
   "source": [
    "params = {\"pvdr\": \"e44f438a-601b-30fb-85eb-bfaf8ddcb5ad\"}\n",
    "conn.runInstalledQuery(\"PatientVisitsByProvider\", params)"
   ]
  },
  {
   "cell_type": "code",
   "execution_count": null,
   "metadata": {},
   "outputs": [],
   "source": []
  }
 ],
 "metadata": {
  "language_info": {
   "codemirror_mode": {
    "name": "ipython",
    "version": 3
   },
   "file_extension": ".py",
   "mimetype": "text/x-python",
   "name": "python",
   "nbconvert_exporter": "python",
   "pygments_lexer": "ipython3",
   "version": "3.7.7-final"
  },
  "orig_nbformat": 2,
  "kernelspec": {
   "name": "python37764bitaf3ccae12e254608b05c8f3548e9d817",
   "display_name": "Python 3.7.7 64-bit"
  }
 },
 "nbformat": 4,
 "nbformat_minor": 2
}