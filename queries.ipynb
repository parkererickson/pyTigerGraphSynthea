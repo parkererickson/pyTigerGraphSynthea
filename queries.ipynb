{
 "cells": [
  {
   "cell_type": "code",
   "execution_count": 1,
   "metadata": {
    "tags": []
   },
   "outputs": [
    {
     "output_type": "stream",
     "name": "stdout",
     "text": "Downloading gsql client Jar\n"
    }
   ],
   "source": [
    "import pandas as pd\n",
    "import pyTigerGraph as tg\n",
    "from pyTigerGraph import gsql\n",
    "conn = tg.TigerGraphConnection(graphname=\"Synthea\")\n",
    "shell = gsql.Gsql(conn, certNeeded=False)"
   ]
  },
  {
   "cell_type": "code",
   "execution_count": 2,
   "metadata": {
    "tags": []
   },
   "outputs": [
    {
     "output_type": "stream",
     "name": "stdout",
     "text": "========================\nTrying version: v3_0_0\nConnecting to localhost:14240\nWARNING: sun.reflect.Reflection.getCallerClass is not supported. This will impact performance.\nIf there is any relative path, it is relative to <System.AppRoot>/dev/gdk/gsql\nThe query providerPatients has been added!\nStart installing queries, about 1 minute ...\nproviderPatients query: curl -X GET 'http://127.0.0.1:9000/query/Synthea/providerPatients?pvdrName=VALUE'. Add -H \"Authorization: Bearer TOKEN\" if authentication is enabled.\n\n[=================================================================] 100% (1/1) \n\n"
    }
   ],
   "source": [
    "print(shell.gsql('''\n",
    "CREATE QUERY providerPatients(VERTEX<Provider> pvdr) FOR GRAPH Synthea{\n",
    "  Start = {pvdr};\n",
    "  patients = SELECT pats FROM Start:s -(providerSeesPatient)-> Patient:pats;\n",
    "  PRINT patients;\n",
    "}\n",
    "\n",
    "INSTALL QUERY providerPatients\n",
    "'''))"
   ]
  },
  {
   "cell_type": "code",
   "execution_count": 3,
   "metadata": {
    "tags": []
   },
   "outputs": [
    {
     "output_type": "stream",
     "name": "stdout",
     "text": "========================\nTrying version: v3_0_0\nConnecting to localhost:14240\nWARNING: sun.reflect.Reflection.getCallerClass is not supported. This will impact performance.\nIf there is any relative path, it is relative to <System.AppRoot>/dev/gdk/gsql\nThe query AverageVisits has been added!\nStart installing queries, about 1 minute ...\nAverageVisits query: curl -X GET 'http://127.0.0.1:9000/query/Synthea/AverageVisits'. Add -H \"Authorization: Bearer TOKEN\" if authentication is enabled.\n\n[=================================================================] 100% (1/1) \n\n"
    }
   ],
   "source": [
    "print(shell.gsql('''\n",
    "CREATE QUERY AverageVisits(/* Parameters here */) FOR GRAPH Synthea { \n",
    "  GroupByAccum<VERTEX<Patient> p, STRING name, SumAccum<INT> visitCount> @@patientVisit;\n",
    "\tMinAccum<INT> @@fewestVisits;\n",
    "\tMaxAccum<INT> @@mostVisits;\n",
    "\tAvgAccum @@avgVisits;\n",
    "\t\n",
    "  patients = {Patient.*};\n",
    "  tmp = SELECT\n",
    "\t        p \n",
    "       FROM patients:p - (patientVisit:e) -> Visit:v\n",
    "       ACCUM @@patientVisit += (p, p.FirstName + \" \" + p.LastName -> p.outdegree()),\n",
    "\t           @@fewestVisits += p.outdegree(),\n",
    "\t           @@mostVisits += p.outdegree(),\n",
    "\t           @@avgVisits += p.outdegree();\n",
    "  \n",
    "    PRINT @@patientVisit;\n",
    "\n",
    "    PRINT @@mostVisits;\n",
    "    PRINT @@fewestVisits;\n",
    "    PRINT @@avgVisits;\n",
    "}\n",
    "\n",
    "INSTALL QUERY AverageVisits\n",
    "'''))"
   ]
  },
  {
   "cell_type": "code",
   "execution_count": 4,
   "metadata": {
    "tags": []
   },
   "outputs": [
    {
     "output_type": "stream",
     "name": "stdout",
     "text": "========================\nTrying version: v3_0_0\nConnecting to localhost:14240\nWARNING: sun.reflect.Reflection.getCallerClass is not supported. This will impact performance.\nIf there is any relative path, it is relative to <System.AppRoot>/dev/gdk/gsql\nThe query PatientVisitsByProvider has been added!\nStart installing queries, about 1 minute ...\nPatientVisitsByProvider query: curl -X GET 'http://127.0.0.1:9000/query/Synthea/PatientVisitsByProvider?providerName=VALUE'. Add -H \"Authorization: Bearer TOKEN\" if authentication is enabled.\n\n[=================================================================] 100% (1/1) \n\n"
    }
   ],
   "source": [
    "print(shell.gsql('''\n",
    "CREATE QUERY PatientVisitsByProvider(VERTEX<Provider> pvdr) FOR GRAPH Synthea { \n",
    "#Define an accumulator\n",
    "  SetAccum<VERTEX<Patient>> @@patientList;\n",
    "  MapAccum<VERTEX<Patient>, INT> @@patientVisits;\n",
    "  #Start with Provider\n",
    "  providers = {pvdr};\n",
    "  #Find all visits for that Provider\n",
    "  visits = SELECT \n",
    "\t      v \n",
    "\t   FROM providers:p-(providerVisit:e)->Visit:v;\n",
    "  #Display how many total visits that provider had\n",
    "  PRINT visits.size();\n",
    "  #Accumulate a set of patients, declaring as set will not permit duplicates\n",
    "  patients = SELECT \n",
    "\t            p \n",
    "\t     FROM visits:v-(patientSeen:e)->Patient:p\n",
    "\t     ACCUM  @@patientList += p, @@patientVisits += ( p -> 1);\n",
    "   #Iterate through set printing out relevant information \n",
    "   PRINT @@patientVisits;\n",
    "}\n",
    "\n",
    "INSTALL QUERY PatientVisitsByProvider\n",
    "'''))"
   ]
  },
  {
   "cell_type": "code",
   "execution_count": 4,
   "metadata": {
    "tags": []
   },
   "outputs": [
    {
     "output_type": "stream",
     "name": "stdout",
     "text": "GET http://localhost:9000/query/Synthea/providerPatients\nhttp://localhost:9000/query/Synthea/providerPatients?pvdrName=Cedrick207+Runte676\n[{'patients': []}]\n"
    },
    {
     "output_type": "execute_result",
     "data": {
      "text/plain": "[{'patients': []}]"
     },
     "metadata": {},
     "execution_count": 4
    }
   ],
   "source": [
    "params = {\"pvdr\": \"e44f438a-601b-30fb-85-eb-bfaff8ddcb5ad\"}\n",
    "\n",
    "conn.runInstalledQuery(\"providerPatients\", params)"
   ]
  },
  {
   "cell_type": "code",
   "execution_count": 22,
   "metadata": {},
   "outputs": [],
   "source": [
    "res = conn.runInstalledQuery(\"AverageVisits\")"
   ]
  },
  {
   "cell_type": "code",
   "execution_count": 23,
   "metadata": {},
   "outputs": [
    {
     "output_type": "execute_result",
     "data": {
      "text/plain": "{'@@mostVisits': 256}"
     },
     "metadata": {},
     "execution_count": 23
    }
   ],
   "source": [
    "res[1]"
   ]
  },
  {
   "cell_type": "code",
   "execution_count": 24,
   "metadata": {},
   "outputs": [
    {
     "output_type": "execute_result",
     "data": {
      "text/plain": "{'@@fewestVisits': 2}"
     },
     "metadata": {},
     "execution_count": 24
    }
   ],
   "source": [
    "res[2]"
   ]
  },
  {
   "cell_type": "code",
   "execution_count": 25,
   "metadata": {},
   "outputs": [
    {
     "output_type": "execute_result",
     "data": {
      "text/plain": "{'@@avgVisits': 38.29841}"
     },
     "metadata": {},
     "execution_count": 25
    }
   ],
   "source": [
    "res[3]"
   ]
  },
  {
   "cell_type": "code",
   "execution_count": null,
   "metadata": {},
   "outputs": [],
   "source": [
    "params = {\"pvdr\": \"e44f438a-601b-30fb-85-eb-bfaff8ddcb5ad\"}\n",
    "conn.runInstalledQuery(\"PatientVisitsByProvider\", params)"
   ]
  },
  {
   "cell_type": "code",
   "execution_count": null,
   "metadata": {},
   "outputs": [],
   "source": []
  }
 ],
 "metadata": {
  "language_info": {
   "codemirror_mode": {
    "name": "ipython",
    "version": 3
   },
   "file_extension": ".py",
   "mimetype": "text/x-python",
   "name": "python",
   "nbconvert_exporter": "python",
   "pygments_lexer": "ipython3",
   "version": "3.7.7-final"
  },
  "orig_nbformat": 2,
  "kernelspec": {
   "name": "python37764bitaf3ccae12e254608b05c8f3548e9d817",
   "display_name": "Python 3.7.7 64-bit"
  }
 },
 "nbformat": 4,
 "nbformat_minor": 2
}